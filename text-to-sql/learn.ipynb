{
 "cells": [
  {
   "cell_type": "markdown",
   "id": "89bafe0f-97d0-4b77-8601-c1af969043e7",
   "metadata": {},
   "source": [
    "TODOs\n",
    "- print tokens, cost\n",
    "- use langsmith to evaluate prompts\n",
    "- use langsmith to check agent flow -> time took etc\n",
    "\n",
    "Challenges:\n",
    "- large database with many tables\n",
    "- query validation before run (guardrails)\n",
    "- dynamic few shot examples\n",
    "- finetuning datasets:  Spider, WikiSQL, CHASE, BIRD-SQL, or CoSQL.\n",
    "- caching & monitoring"
   ]
  },
  {
   "cell_type": "markdown",
   "id": "397f9acb",
   "metadata": {},
   "source": [
    "### Imports"
   ]
  },
  {
   "cell_type": "code",
   "execution_count": 37,
   "id": "78555683",
   "metadata": {},
   "outputs": [],
   "source": [
    "# !pip install langchain langchain_experimental sqlglot --quiet"
   ]
  },
  {
   "cell_type": "code",
   "execution_count": 39,
   "id": "04abdd6e",
   "metadata": {},
   "outputs": [],
   "source": [
    "import boto3, json, sqlglot\n",
    "from operator import itemgetter\n",
    "from langchain.llms.bedrock import Bedrock\n",
    "from langchain.sql_database import SQLDatabase\n",
    "from langchain.prompts import PromptTemplate\n",
    "from langchain.memory import ConversationBufferMemory\n",
    "from langchain_core.runnables import RunnableLambda, RunnablePassthrough\n",
    "from langchain.agents import Tool, AgentExecutor\n",
    "from langchain.tools.render import render_text_description\n",
    "from langchain.agents.format_scratchpad import format_log_to_str\n",
    "from langchain.agents.output_parsers import ReActJsonSingleInputOutputParser\n",
    "\n",
    "from utils.prompts import (\n",
    "    zero_shot_sql_prompt, \n",
    "    text_generate_prompt, text_generate_prompt_with_history,\n",
    "    few_shot_sql_prompt, few_shot_sql_prompt_with_history,\n",
    "    few_shot_sql_improved_prompt, few_shot_sql_builtin_prompt,\n",
    "    agent_prompt_template, agent_prompt_template_with_history\n",
    ")"
   ]
  },
  {
   "cell_type": "markdown",
   "id": "1120e8a3-d41a-42e3-afef-25dc40bbe256",
   "metadata": {
    "tags": []
   },
   "source": [
    "### Utils"
   ]
  },
  {
   "cell_type": "code",
   "execution_count": 40,
   "id": "15bb1fce",
   "metadata": {},
   "outputs": [
    {
     "name": "stdout",
     "output_type": "stream",
     "text": [
      "The autoreload extension is already loaded. To reload it, use:\n",
      "  %reload_ext autoreload\n"
     ]
    }
   ],
   "source": [
    "%load_ext autoreload\n",
    "%autoreload 2"
   ]
  },
  {
   "cell_type": "code",
   "execution_count": 42,
   "id": "d1c425fd-a501-4d4f-aa75-3f237c681b45",
   "metadata": {
    "tags": []
   },
   "outputs": [],
   "source": [
    "llm = Bedrock(\n",
    "    model_id=\"anthropic.claude-v2:1\",\n",
    "    client=boto3.client(\"bedrock-runtime\"),\n",
    "    model_kwargs={\"max_tokens_to_sample\": 512, \"temperature\": 0.0}\n",
    ")"
   ]
  },
  {
   "cell_type": "code",
   "execution_count": 43,
   "id": "2f9b50a1-71f6-4861-9c1b-3411fa40d23e",
   "metadata": {
    "tags": []
   },
   "outputs": [
    {
     "name": "stdout",
     "output_type": "stream",
     "text": [
      "dialect: postgresql\n",
      "usable_table_names: ['hoteldata']\n",
      "table_info: \n",
      "CREATE TABLE hoteldata (\n",
      "\troom_type TEXT, \n",
      "\tonsite_rate DOUBLE PRECISION, \n",
      "\troom_amenities TEXT, \n",
      "\tmax_occupancy BIGINT, \n",
      "\troomdescription TEXT, \n",
      "\thotel_name TEXT, \n",
      "\tcity TEXT, \n",
      "\tcountry TEXT, \n",
      "\tstar_rating BIGINT, \n",
      "\tmeals_included BOOLEAN\n",
      ")\n",
      "\n",
      "/*\n",
      "3 rows from hoteldata table:\n",
      "room_type\tonsite_rate\troom_amenities\tmax_occupancy\troomdescription\thotel_name\tcity\tcountry\tstar_rating\tmeals_included\n",
      "Vacation Home\t636.09\tAir conditioning: ;Closet: ;Fireplace: ;Free Wi-Fi in all rooms!: ;Full kitchen: ;Heating: ;High cha\t4\tShower, Kitchenette, 2 bedrooms, 1 double bed or 2 single beds\tPantlleni\tBeddgelert\tUnited Kingdom\t3\tFalse\n",
      "Vacation Home\t591.74\tAir conditioning: ;Closet: ;Dishwasher: ;Fireplace: ;Free Wi-Fi in all rooms!: ;Full kitchen: ;Heati\t4\tShower, Kitchenette, 2 bedrooms, 1 double bed or 2 single beds\tWillow Cottage\tBeverley\tUnited Kingdom\t3\tFalse\n",
      "Guest room, Queen or Twin/Single Bed(s)\t0.0\tNone\t2\tNone\tAC Hotel Manchester Salford Quays\tManchester\tUnited Kingdom\t4\tFalse\n",
      "*/\n"
     ]
    }
   ],
   "source": [
    "with open(\"/home/ubuntu/config.json\") as file:\n",
    "    config = json.load(file)\n",
    "\n",
    "database_uri = \"postgresql://{user}:{password}@{host}:{port}/{database}\".format(**config[\"rds_connect\"])\n",
    "\n",
    "rds_db = SQLDatabase.from_uri(database_uri=database_uri)\n",
    "\n",
    "print(f\"dialect: {rds_db.dialect}\")\n",
    "print(f\"usable_table_names: {rds_db.get_usable_table_names()}\")\n",
    "print(f\"table_info: {rds_db.get_table_info()}\")"
   ]
  },
  {
   "cell_type": "code",
   "execution_count": 44,
   "id": "fb578086",
   "metadata": {},
   "outputs": [],
   "source": [
    "def format_sql_query(raw_sql_query):\n",
    "    sql_query = sqlglot.transpile(raw_sql_query, write='postgres', identify=True)[0]\n",
    "    return sql_query\n",
    "\n",
    "def get_db_response(x):\n",
    "    sql_query = x[\"sql_query\"]\n",
    "    return rds_db.run(sql_query)    \n",
    "    # return rds_db.run(sql_query, include_columns=True)\n",
    "\n",
    "def text_to_sql_tool(question, chain):\n",
    "    sql_query = chain.invoke({ \"question\": question })\n",
    "    return sql_query"
   ]
  },
  {
   "cell_type": "markdown",
   "id": "cc38e298-b169-412b-8b2e-5f8f17eca809",
   "metadata": {
    "jp-MarkdownHeadingCollapsed": true,
    "tags": []
   },
   "source": [
    "### 1. Text To SQL"
   ]
  },
  {
   "cell_type": "markdown",
   "id": "a2078c91-fd8e-4f28-8b22-452925cd3e1b",
   "metadata": {
    "jp-MarkdownHeadingCollapsed": true,
    "tags": []
   },
   "source": [
    "#### zero-shot"
   ]
  },
  {
   "cell_type": "code",
   "execution_count": 45,
   "id": "af5256a2-d5b3-4b42-9920-e4422c9107e3",
   "metadata": {
    "tags": []
   },
   "outputs": [],
   "source": [
    "zero_shot_sql_chain = zero_shot_sql_prompt | llm"
   ]
  },
  {
   "cell_type": "code",
   "execution_count": 46,
   "id": "523e11fa-95ca-418f-a7e0-538bc48971fb",
   "metadata": {
    "tags": []
   },
   "outputs": [
    {
     "name": "stdout",
     "output_type": "stream",
     "text": [
      " SELECT * FROM hoteldata WHERE country LIKE '%Southern Europe%' AND onsite_rate <= 200 LIMIT 5\n",
      "CPU times: user 18 ms, sys: 3.02 ms, total: 21 ms\n",
      "Wall time: 1.26 s\n"
     ]
    }
   ],
   "source": [
    "%%time\n",
    "query = \"I want a hotel in Southern Europe and my budget is 200 bucks.\"\n",
    "response = zero_shot_sql_chain.invoke({\n",
    "    \"question\": query\n",
    "})\n",
    "print(response)"
   ]
  },
  {
   "cell_type": "code",
   "execution_count": 47,
   "id": "f99bb779-5cb2-40e6-8e3a-49a061270158",
   "metadata": {
    "tags": []
   },
   "outputs": [
    {
     "name": "stdout",
     "output_type": "stream",
     "text": [
      " SELECT * FROM hoteldata WHERE max_occupancy = 2 AND (city = 'Vienna' OR city = 'London') AND meals_included = true AND room_amenities LIKE '%AC%' LIMIT 5\n",
      "CPU times: user 6.72 ms, sys: 449 µs, total: 7.16 ms\n",
      "Wall time: 3.33 s\n"
     ]
    }
   ],
   "source": [
    "%%time\n",
    "query = \"Find a 2-person room in Vienna or London, preferably with meals included and AC\"\n",
    "response = zero_shot_sql_chain.invoke({\n",
    "    \"question\": query\n",
    "})\n",
    "print(response)"
   ]
  },
  {
   "cell_type": "code",
   "execution_count": 48,
   "id": "b0f29813-afe5-4ad5-b4a0-9d84584560c4",
   "metadata": {
    "tags": []
   },
   "outputs": [
    {
     "name": "stdout",
     "output_type": "stream",
     "text": [
      " SELECT * FROM hoteldata WHERE meals_included = true AND max_occupancy >= 3 AND hotel_name LIKE '%Hilton%' LIMIT 5\n",
      "CPU times: user 7.46 ms, sys: 0 ns, total: 7.46 ms\n",
      "Wall time: 7.22 s\n"
     ]
    }
   ],
   "source": [
    "%%time\n",
    "query = \"A room with breakfast included for 3 people, at a Hilton\"\n",
    "response = zero_shot_sql_chain.invoke({\n",
    "    \"question\": query\n",
    "})\n",
    "print(response)"
   ]
  },
  {
   "cell_type": "code",
   "execution_count": 49,
   "id": "bd09a9d5-a38c-4c10-a327-1882199e2fd4",
   "metadata": {
    "tags": []
   },
   "outputs": [
    {
     "name": "stdout",
     "output_type": "stream",
     "text": [
      " SELECT * FROM hoteldata WHERE room_type LIKE '%king%' AND room_amenities LIKE '%hot tub%' AND onsite_rate <= 300 AND country LIKE '%Balkans%' LIMIT 5\n",
      "CPU times: user 6.83 ms, sys: 0 ns, total: 6.83 ms\n",
      "Wall time: 2.12 s\n"
     ]
    }
   ],
   "source": [
    "%%time\n",
    "query = \"I want a hotel in the Balkans with a king sized bed and a hot tub. Budget is $300 a night.\"\n",
    "response = zero_shot_sql_chain.invoke({\n",
    "    \"question\": query\n",
    "})\n",
    "print(response)"
   ]
  },
  {
   "cell_type": "markdown",
   "id": "ad78b41f-42cf-42b6-861d-44bf0a0f5d36",
   "metadata": {
    "jp-MarkdownHeadingCollapsed": true,
    "tags": []
   },
   "source": [
    "#### few-shot"
   ]
  },
  {
   "cell_type": "markdown",
   "id": "e0a30f58-7919-4a50-8f24-47bbf85850fc",
   "metadata": {
    "tags": []
   },
   "source": [
    "##### observe: adding examples improves country column considering regions"
   ]
  },
  {
   "cell_type": "code",
   "execution_count": 50,
   "id": "71c78319-5fd1-4132-91bb-0fac8e07a41d",
   "metadata": {
    "tags": []
   },
   "outputs": [],
   "source": [
    "# few_shot_sql_prompt.pretty_print()"
   ]
  },
  {
   "cell_type": "code",
   "execution_count": 51,
   "id": "cb91f8d9-8540-4398-9f50-0ed92f6eb69b",
   "metadata": {
    "tags": []
   },
   "outputs": [],
   "source": [
    "few_shot_sql_chain = few_shot_sql_prompt | llm"
   ]
  },
  {
   "cell_type": "code",
   "execution_count": 52,
   "id": "eec3e525-18f6-4e14-9241-1c70593196f6",
   "metadata": {
    "tags": []
   },
   "outputs": [
    {
     "name": "stdout",
     "output_type": "stream",
     "text": [
      " SELECT * FROM hoteldata WHERE onsite_rate <= 200 AND (country LIKE '%Italy%' OR country LIKE '%Spain%' OR country LIKE '%Portugal%' OR country LIKE '%Greece%') LIMIT 5\n",
      "CPU times: user 10.1 ms, sys: 306 µs, total: 10.4 ms\n",
      "Wall time: 1.78 s\n"
     ]
    }
   ],
   "source": [
    "%%time\n",
    "query = \"I want a hotel in Southern Europe and my budget is 200 bucks.\"\n",
    "response = few_shot_sql_chain.invoke({\n",
    "    \"question\": query\n",
    "})\n",
    "print(response)"
   ]
  },
  {
   "cell_type": "markdown",
   "id": "6087ec4e-2b53-4832-91a0-753ce412d6e0",
   "metadata": {},
   "source": [
    "##### thought: add example values in a column"
   ]
  },
  {
   "cell_type": "code",
   "execution_count": 53,
   "id": "da28b766-1fc9-432d-9c6a-eaf67dcd7a25",
   "metadata": {
    "tags": []
   },
   "outputs": [],
   "source": [
    "# few_shot_sql_improved_prompt.pretty_print()"
   ]
  },
  {
   "cell_type": "code",
   "execution_count": 54,
   "id": "d9cc6ace-42ac-4e0a-a67d-c93d20113cba",
   "metadata": {
    "tags": []
   },
   "outputs": [],
   "source": [
    "few_shot_sql_improved_chain = few_shot_sql_improved_prompt | llm"
   ]
  },
  {
   "cell_type": "code",
   "execution_count": 55,
   "id": "059366d4-3eec-45af-a64b-69c1041df2a0",
   "metadata": {
    "tags": []
   },
   "outputs": [
    {
     "name": "stdout",
     "output_type": "stream",
     "text": [
      " SELECT * FROM hoteldata WHERE onsite_rate <= 200 AND (country LIKE '%Poland%' OR country LIKE '%Czech Republic%' OR country LIKE '%Slovakia%' OR country LIKE '%Hungary%' OR country LIKE '%Romania%' OR country LIKE '%Bulgaria%') LIMIT 5\n",
      "CPU times: user 7.18 ms, sys: 3.27 ms, total: 10.5 ms\n",
      "Wall time: 3.58 s\n"
     ]
    }
   ],
   "source": [
    "%%time\n",
    "query = \"I want a hotel in Eastern Europe and my budget is 200 bucks.\"\n",
    "response = few_shot_sql_improved_chain.invoke({\n",
    "    \"question\": query\n",
    "})\n",
    "print(response)"
   ]
  },
  {
   "cell_type": "markdown",
   "id": "83d65975-7cd7-44ba-9b61-fa8e7e3101c7",
   "metadata": {
    "tags": []
   },
   "source": [
    "### 2. Custom generate + execute SQL"
   ]
  },
  {
   "cell_type": "markdown",
   "id": "1c2c24fe-df3a-4329-8da8-de0ad05ae33f",
   "metadata": {
    "tags": []
   },
   "source": [
    "#### chain"
   ]
  },
  {
   "cell_type": "code",
   "execution_count": 56,
   "id": "bd50ed27-ac41-4aea-b36e-8428ed67650d",
   "metadata": {
    "tags": []
   },
   "outputs": [],
   "source": [
    "create_query = few_shot_sql_prompt | llm | format_sql_query\n",
    "\n",
    "execute_summarize_query = text_generate_prompt | llm\n",
    "\n",
    "final_inputs = RunnablePassthrough.assign(sql_query=create_query).assign(db_response=get_db_response)\n",
    "\n",
    "full_chain = final_inputs | RunnablePassthrough.assign(output=execute_summarize_query)"
   ]
  },
  {
   "cell_type": "code",
   "execution_count": 57,
   "id": "9078fdce-b095-41de-a4ee-459fada1b5ce",
   "metadata": {
    "tags": []
   },
   "outputs": [
    {
     "name": "stdout",
     "output_type": "stream",
     "text": [
      " The SQL query returns the top 3 most expensive hotels in London, ordered by onsite_rate descending. The most expensive is De Vere Beaumont Estate at £949.38 per night, followed by Balmoral Gardens at £695.64 and Sheraton Heathrow Hotel at £686.35.\n",
      "CPU times: user 56.4 ms, sys: 3.09 ms, total: 59.5 ms\n",
      "Wall time: 13.7 s\n"
     ]
    }
   ],
   "source": [
    "%%time\n",
    "query = \"Show me top 3 most expensive hotels in London\"\n",
    "result = full_chain.invoke({\"question\": query})\n",
    "# print(json.dumps(result, indent=2, default=str))\n",
    "\n",
    "print(result[\"output\"])"
   ]
  },
  {
   "cell_type": "markdown",
   "id": "6704819a-71f5-4cb7-965b-bdc3e7a5d210",
   "metadata": {
    "tags": []
   },
   "source": [
    "#### chain with memory"
   ]
  },
  {
   "cell_type": "code",
   "execution_count": 58,
   "id": "b8d748cb-1d09-4a3a-a72e-e373b034c0f3",
   "metadata": {
    "tags": []
   },
   "outputs": [],
   "source": [
    "memory = ConversationBufferMemory(\n",
    "    memory_key=\"chat_history\",\n",
    "    ai_prefix=\"A\",\n",
    "    human_prefix=\"H\",\n",
    ") "
   ]
  },
  {
   "cell_type": "code",
   "execution_count": 59,
   "id": "4178c7fe-f716-4a7a-91da-2de5715a53e4",
   "metadata": {
    "tags": []
   },
   "outputs": [],
   "source": [
    "create_query =  few_shot_sql_prompt_with_history | llm | format_sql_query\n",
    "\n",
    "execute_summarize_query = text_generate_prompt_with_history | llm\n",
    "\n",
    "full_chain = (\n",
    "    RunnablePassthrough.assign(\n",
    "        chat_history=RunnableLambda(memory.load_memory_variables) | itemgetter(\"chat_history\")\n",
    "    ) \n",
    "    | RunnablePassthrough.assign(sql_query=create_query).assign(db_response=get_db_response) \n",
    "    | RunnablePassthrough.assign(output=execute_summarize_query)\n",
    ")"
   ]
  },
  {
   "cell_type": "code",
   "execution_count": 61,
   "id": "d20594b3-2334-44c2-8486-b6a51428d8ee",
   "metadata": {
    "tags": []
   },
   "outputs": [
    {
     "name": "stdout",
     "output_type": "stream",
     "text": [
      " The top 3 most expensive hotels in London are De Vere Beaumont Estate at $949.38 per night with a 4 star rating, Balmoral Gardens at $695.64 per night also with a 4 star rating, and Sheraton Heathrow Hotel at $686.35 per night with a 4 star rating.\n",
      "CPU times: user 73.6 ms, sys: 5.13 ms, total: 78.8 ms\n",
      "Wall time: 9.49 s\n"
     ]
    }
   ],
   "source": [
    "%%time\n",
    "query = \"Show me top 3 most expensive hotels in London\"\n",
    "result = full_chain.invoke({\"question\": query})\n",
    "print(result[\"output\"])"
   ]
  },
  {
   "cell_type": "code",
   "execution_count": 62,
   "id": "09c35f30-76be-410b-847f-46007a896e1c",
   "metadata": {
    "tags": []
   },
   "outputs": [
    {
     "data": {
      "text/plain": [
       "{'chat_history': 'H: Show me top 3 most expensive hotels in London\\nA:  The top 3 most expensive hotels in London are De Vere Beaumont Estate at $949.38 per night with a 4 star rating, Balmoral Gardens at $695.64 per night also with a 4 star rating, and Sheraton Heathrow Hotel at $686.35 per night with a 4 star rating.'}"
      ]
     },
     "execution_count": 62,
     "metadata": {},
     "output_type": "execute_result"
    }
   ],
   "source": [
    "memory.chat_memory.add_user_message(result[\"question\"])\n",
    "memory.chat_memory.add_ai_message(result[\"output\"])\n",
    "\n",
    "memory.load_memory_variables({})"
   ]
  },
  {
   "cell_type": "code",
   "execution_count": 63,
   "id": "66a45b55-70a3-4f81-85e3-77c529e063e2",
   "metadata": {
    "tags": []
   },
   "outputs": [
    {
     "name": "stdout",
     "output_type": "stream",
     "text": [
      " The room amenities available at the top 3 most expensive London hotels are air conditioning, free Wi-Fi, safe boxes, and other standard amenities. De Vere Beaumont Estate also offers wake-up service. Balmoral Gardens has full kitchens. Sheraton Heathrow has bathrobes and slippers.\n",
      "CPU times: user 78.6 ms, sys: 0 ns, total: 78.6 ms\n",
      "Wall time: 7.29 s\n"
     ]
    }
   ],
   "source": [
    "%%time\n",
    "query = \"What are the room amenties available of above hotels ? \"\n",
    "result = full_chain.invoke({\"question\": query})\n",
    "print(result[\"output\"])"
   ]
  },
  {
   "cell_type": "code",
   "execution_count": 64,
   "id": "ad962aa1-ca90-4dbf-b043-efb975067e26",
   "metadata": {
    "tags": []
   },
   "outputs": [
    {
     "data": {
      "text/plain": [
       "{'chat_history': 'H: Show me top 3 most expensive hotels in London\\nA:  The top 3 most expensive hotels in London are De Vere Beaumont Estate at $949.38 per night with a 4 star rating, Balmoral Gardens at $695.64 per night also with a 4 star rating, and Sheraton Heathrow Hotel at $686.35 per night with a 4 star rating.\\nH: What are the room amenties available of above hotels ? \\nA:  The room amenities available at the top 3 most expensive London hotels are air conditioning, free Wi-Fi, safe boxes, and other standard amenities. De Vere Beaumont Estate also offers wake-up service. Balmoral Gardens has full kitchens. Sheraton Heathrow has bathrobes and slippers.'}"
      ]
     },
     "execution_count": 64,
     "metadata": {},
     "output_type": "execute_result"
    }
   ],
   "source": [
    "memory.chat_memory.add_user_message(result[\"question\"])\n",
    "memory.chat_memory.add_ai_message(result[\"output\"])\n",
    "\n",
    "memory.load_memory_variables({})"
   ]
  },
  {
   "cell_type": "markdown",
   "id": "d5cb2948-07d9-4393-9642-4b3f81784183",
   "metadata": {
    "tags": []
   },
   "source": [
    "#### agent"
   ]
  },
  {
   "cell_type": "code",
   "execution_count": 65,
   "id": "5737558d-48c8-43ae-8789-cb9b3b2d7e37",
   "metadata": {
    "tags": []
   },
   "outputs": [],
   "source": [
    "create_query = few_shot_sql_prompt | llm | format_sql_query\n",
    "\n",
    "# execute_summarize_query = text2sql_chain # when don't want to execute queries \n",
    "execute_summarize_query = (\n",
    "    RunnablePassthrough.assign(sql_query=create_query).assign(db_response=get_db_response)\n",
    "    | text_generate_prompt \n",
    "    | llm\n",
    ")"
   ]
  },
  {
   "cell_type": "code",
   "execution_count": 66,
   "id": "12466901-3269-4aa3-b57e-66776124e13e",
   "metadata": {
    "tags": []
   },
   "outputs": [],
   "source": [
    "tools = [\n",
    "    Tool(\n",
    "        name=\"run_text_to_sql\",\n",
    "        func=lambda question: text_to_sql_tool(question, execute_summarize_query),\n",
    "        description=(\n",
    "            \"Use when you are asked analytical questions about hotels, stay and other facilities provided.\"\n",
    "            \" The input should be the question itself.\"\n",
    "        ),\n",
    "    )\n",
    "]"
   ]
  },
  {
   "cell_type": "code",
   "execution_count": 67,
   "id": "66887705-ed40-41cb-beb6-7dab67dd8d39",
   "metadata": {
    "tags": []
   },
   "outputs": [],
   "source": [
    "agent_prompt = PromptTemplate(\n",
    "    input_variables = [\"question\", \"agent_scratchpad\"],\n",
    "    partial_variables = {\n",
    "        \"tools\": render_text_description(tools),\n",
    "        \"tool_names\": \", \".join([t.name for t in tools]),\n",
    "    },\n",
    "    template = agent_prompt_template,\n",
    ")\n",
    "\n",
    "# agent_prompt.pretty_print()"
   ]
  },
  {
   "cell_type": "code",
   "execution_count": 68,
   "id": "61b41229-989f-4a2f-a766-1592f0a8d62c",
   "metadata": {
    "tags": []
   },
   "outputs": [],
   "source": [
    "agent = (\n",
    "    {\n",
    "        \"question\": lambda x: x[\"question\"],\n",
    "        \"agent_scratchpad\": lambda x: format_log_to_str(x[\"intermediate_steps\"]),\n",
    "    }\n",
    "    | agent_prompt\n",
    "    | llm.bind(stop=[\"\\nObservation\"])\n",
    "    | ReActJsonSingleInputOutputParser()\n",
    ")"
   ]
  },
  {
   "cell_type": "code",
   "execution_count": 69,
   "id": "39811645-f83d-45ff-a2e2-c3aab2293ea6",
   "metadata": {
    "tags": []
   },
   "outputs": [],
   "source": [
    "agent_executor = AgentExecutor(\n",
    "    agent=agent,\n",
    "    tools=tools,\n",
    "    verbose=True,\n",
    "    handle_parsing_errors=True,\n",
    ")"
   ]
  },
  {
   "cell_type": "code",
   "execution_count": 70,
   "id": "125810a7-96bf-4f9b-848d-618af2a3c48e",
   "metadata": {
    "collapsed": true,
    "jupyter": {
     "outputs_hidden": true
    },
    "tags": []
   },
   "outputs": [
    {
     "name": "stdout",
     "output_type": "stream",
     "text": [
      "\n",
      "\n",
      "\u001b[1m> Entering new AgentExecutor chain...\u001b[0m\n",
      "\u001b[32;1m\u001b[1;3m Thought: I will use run_text_to_sql to get the number of hotels in London.\n",
      "\n",
      "Action:\n",
      "```\n",
      "{\n",
      "  \"action\": \"run_text_to_sql\",\n",
      "  \"action_input\": \"How many hotels are there in London?\"\n",
      "}\n",
      "```\n",
      "\n",
      "Action Input: How many hotels are there in London?\n",
      "\u001b[0m\u001b[36;1m\u001b[1;3m\n",
      "The SQL query counts the number of hotels in the hoteldata table where the city contains 'London'. The response indicates there are 475 hotels in London.\u001b[0m\u001b[32;1m\u001b[1;3m\n",
      "Final Answer: There are 475 hotels in London based on the hotel data.\u001b[0m\n",
      "\n",
      "\u001b[1m> Finished chain.\u001b[0m\n"
     ]
    },
    {
     "data": {
      "text/plain": [
       "{'question': 'How many hotels in London ?',\n",
       " 'output': 'There are 475 hotels in London based on the hotel data.'}"
      ]
     },
     "execution_count": 70,
     "metadata": {},
     "output_type": "execute_result"
    }
   ],
   "source": [
    "agent_executor.invoke({\n",
    "    \"question\": \"How many hotels in London ?\"\n",
    "})"
   ]
  },
  {
   "cell_type": "markdown",
   "id": "7057ed94-b42c-4d8e-8eac-0d9853d49cf0",
   "metadata": {
    "tags": []
   },
   "source": [
    "#### agent with memory"
   ]
  },
  {
   "cell_type": "code",
   "execution_count": 71,
   "id": "2e457d11-b8a7-4b24-8e6d-f91feb9ca063",
   "metadata": {
    "tags": []
   },
   "outputs": [],
   "source": [
    "memory = ConversationBufferMemory(\n",
    "    memory_key=\"chat_history\",\n",
    "    ai_prefix=\"A\",\n",
    "    human_prefix=\"H\",\n",
    ") "
   ]
  },
  {
   "cell_type": "code",
   "execution_count": 72,
   "id": "ed49e55f-1eea-4baf-b27d-a8ca8b6980c2",
   "metadata": {
    "tags": []
   },
   "outputs": [],
   "source": [
    "create_query =  few_shot_sql_prompt_with_history | llm | format_sql_query\n",
    "\n",
    "execute_summarize_query = (\n",
    "    RunnablePassthrough.assign(chat_history=RunnableLambda(memory.load_memory_variables) | itemgetter(\"chat_history\")) \n",
    "    | RunnablePassthrough.assign(sql_query=create_query).assign(db_response=get_db_response) \n",
    "    | text_generate_prompt_with_history \n",
    "    | llm\n",
    ")"
   ]
  },
  {
   "cell_type": "code",
   "execution_count": 73,
   "id": "f1117d48-b346-472e-aa16-455d200109f1",
   "metadata": {
    "tags": []
   },
   "outputs": [],
   "source": [
    "tools = [\n",
    "    Tool(\n",
    "        name=\"run_text_to_sql\",\n",
    "        func=lambda question: text_to_sql_tool(question, execute_summarize_query),\n",
    "        description=(\n",
    "            \"Use when you are asked analytical questions about hotels, stay and other facilities provided.\"\n",
    "            \" The input should be the question itself.\"\n",
    "        ),\n",
    "    )\n",
    "]"
   ]
  },
  {
   "cell_type": "code",
   "execution_count": 74,
   "id": "2392d1e2-1a1f-469b-9803-21441ad024f9",
   "metadata": {
    "tags": []
   },
   "outputs": [],
   "source": [
    "agent_prompt_with_history = PromptTemplate(\n",
    "    input_variables = [\n",
    "        \"chat_history\",\n",
    "        \"question\", \n",
    "        \"agent_scratchpad\"\n",
    "    ],\n",
    "    partial_variables = {\n",
    "        \"tools\": render_text_description(tools),\n",
    "        \"tool_names\": \", \".join([t.name for t in tools]),\n",
    "    },\n",
    "    template = agent_prompt_template_with_history,\n",
    ")"
   ]
  },
  {
   "cell_type": "code",
   "execution_count": 75,
   "id": "917026aa-28a7-4119-be48-40827e25e769",
   "metadata": {
    "tags": []
   },
   "outputs": [],
   "source": [
    "agent_with_history = (\n",
    "    {\n",
    "        \"question\": lambda x: x[\"question\"],\n",
    "        \"agent_scratchpad\": lambda x: format_log_to_str(x[\"intermediate_steps\"]),\n",
    "        \"chat_history\": lambda x: x[\"chat_history\"]\n",
    "    }\n",
    "    | agent_prompt_with_history\n",
    "    | llm.bind(stop=[\"\\nObservation\"])\n",
    "    | ReActJsonSingleInputOutputParser()\n",
    ")"
   ]
  },
  {
   "cell_type": "code",
   "execution_count": 76,
   "id": "44077c9d-55b1-4def-9b4d-1b6f0eb18f27",
   "metadata": {
    "tags": []
   },
   "outputs": [],
   "source": [
    "agent_executor_with_history = AgentExecutor(\n",
    "    agent=agent_with_history,\n",
    "    tools=tools,\n",
    "    verbose=True,\n",
    "    memory=memory, # At the start, memory loads variables and passes them along in the chain. At the end, it saves any returned variables. \n",
    "    handle_parsing_errors=True,\n",
    ")"
   ]
  },
  {
   "cell_type": "code",
   "execution_count": 77,
   "id": "13d80b7f-7729-4ecd-b41d-03f8811d0b1a",
   "metadata": {
    "tags": []
   },
   "outputs": [
    {
     "data": {
      "text/plain": [
       "{'chat_history': ''}"
      ]
     },
     "execution_count": 77,
     "metadata": {},
     "output_type": "execute_result"
    }
   ],
   "source": [
    "memory.load_memory_variables({})"
   ]
  },
  {
   "cell_type": "code",
   "execution_count": 78,
   "id": "63de1cbe-197f-460d-84f8-272bb473b565",
   "metadata": {
    "tags": []
   },
   "outputs": [
    {
     "name": "stdout",
     "output_type": "stream",
     "text": [
      "\n",
      "\n",
      "\u001b[1m> Entering new AgentExecutor chain...\u001b[0m\n",
      "\u001b[32;1m\u001b[1;3m Thought: I will use run_text_to_sql to get the number of hotels in London.\n",
      "\n",
      "Action:\n",
      "```\n",
      "{\n",
      "  \"action\": \"run_text_to_sql\",\n",
      "  \"action_input\": \"SELECT COUNT(*) FROM hotels WHERE city = 'London'\"\n",
      "}\n",
      "```\n",
      "\n",
      "Action Input: SELECT COUNT(*) FROM hotels WHERE city = 'London'\n",
      "\u001b[0m\u001b[36;1m\u001b[1;3m The SQL query counted 475 rows in the hoteldata table where the city column contains 'London'.\u001b[0m\u001b[32;1m\u001b[1;3m\n",
      "Final Answer: There are 475 hotels in London.\u001b[0m\n",
      "\n",
      "\u001b[1m> Finished chain.\u001b[0m\n",
      "There are 475 hotels in London.\n",
      "CPU times: user 152 ms, sys: 6.43 ms, total: 158 ms\n",
      "Wall time: 15.9 s\n"
     ]
    }
   ],
   "source": [
    "%%time\n",
    "# query = \"Show me top 3 most expensive hotels in London\"\n",
    "query = \"How many hotels in London ?\"\n",
    "response = agent_executor_with_history.invoke({ \"question\": query })\n",
    "print(response[\"output\"])"
   ]
  },
  {
   "cell_type": "code",
   "execution_count": 79,
   "id": "a43a6b4f-d1d3-4e0a-b06d-90e4c643358c",
   "metadata": {
    "tags": []
   },
   "outputs": [
    {
     "name": "stdout",
     "output_type": "stream",
     "text": [
      "\n",
      "\n",
      "\u001b[1m> Entering new AgentExecutor chain...\u001b[0m\n",
      "\u001b[32;1m\u001b[1;3m Thought: I need to analyze the hotel data to find information about room amenities of the hotels in London.\n",
      "\n",
      "Action:\n",
      "```\n",
      "{\n",
      "  \"action\": \"run_text_to_sql\",\n",
      "  \"action_input\": \"What are the room amenities available at the 475 hotels in London?\"  \n",
      "}\n",
      "```\n",
      "\n",
      "Action Input: What are the room amenities available at the 475 hotels in London?\n",
      "\u001b[0m\u001b[36;1m\u001b[1;3m The query returns a list of all the distinct room amenities available across the 475 hotels in London. The amenities include things like air conditioning, coffee/tea makers, WiFi, TVs, hair dryers, and more.\u001b[0m\u001b[32;1m\u001b[1;3m\n",
      "Final Answer: The room amenities available across the 475 hotels in London include air conditioning, coffee/tea makers, WiFi, TVs, hair dryers, and various other standard hotel room amenities. The full list contains numerous distinct amenities across all the London hotels.\u001b[0m\n",
      "\n",
      "\u001b[1m> Finished chain.\u001b[0m\n",
      "The room amenities available across the 475 hotels in London include air conditioning, coffee/tea makers, WiFi, TVs, hair dryers, and various other standard hotel room amenities. The full list contains numerous distinct amenities across all the London hotels.\n",
      "CPU times: user 186 ms, sys: 14.2 ms, total: 200 ms\n",
      "Wall time: 25.9 s\n"
     ]
    }
   ],
   "source": [
    "%%time\n",
    "query = \"What are the room amenties available of above hotels ?\"\n",
    "response = agent_executor_with_history.invoke({ \"question\": query })\n",
    "print(response[\"output\"])"
   ]
  },
  {
   "cell_type": "markdown",
   "id": "8b28eb2a",
   "metadata": {},
   "source": [
    "### 3. Builtin generate + execute SQL"
   ]
  },
  {
   "cell_type": "markdown",
   "id": "b38673dd",
   "metadata": {},
   "source": [
    "#### chain"
   ]
  },
  {
   "cell_type": "code",
   "execution_count": 80,
   "id": "273b94c0",
   "metadata": {},
   "outputs": [
    {
     "name": "stdout",
     "output_type": "stream",
     "text": [
      "\n",
      "\n",
      "\u001b[1m> Entering new SQLDatabaseChain chain...\u001b[0m\n",
      "show me top 3 most expensive hotels in Italy\n",
      "SQLQuery:\u001b[32;1m\u001b[1;3mSELECT * FROM hoteldata WHERE country LIKE '%Italy%' ORDER BY onsite_rate DESC LIMIT 3\u001b[0m\n",
      "SQLResult: \u001b[33;1m\u001b[1;3m[('Presidential Suite', 2190.1, 'Air conditioning: ;Alarm clock: ;Bathrobes: ;Closet: ;Coffee/tea maker: ;Desk: ;Free Wi-Fi in all rooms!: ;Hair dryer: ;Heating: ;In-room safe box: ;Linens: ;Mini bar: ;Mirror: ;Satellite/cable channels: ;Seating area: ;Slippers: ;Smoke detector: ;Sofa: ;Soundproofing: ;Telephone: ;Toiletries:...', 1, 'Room size: 60 m²/646 ft², Non-smoking, 2 bathrooms, Shower, 2 king beds', 'Splendid Venice Venezia - Starhotels Collezione', 'Venice', 'Italy', 4, True), ('One-Bedroom Apartment', 1105.09, 'Air conditioning: ;Closet: ;Desk: ;Free Wi-Fi in all rooms!: ;Full kitchen: ;Hair dryer: ;Heating: ;In-room safe box: ;Kitchenware: ;Private entrance: ;Refrigerator: ;Satellite/cable channels: ;Seating area: ;Separate dining area: ;Shower: ;Sofa: ;Telephone: ;Toiletries: ;Towels: ;Wake-up service: ;', 4, 'Room size: 32 m²/344 ft², Bathtub, Kitchenette, 2 single beds and 1 queen bed', 'Corte Family Residence', 'Borca di Cadore', 'Italy', 3, False), ('Suite', 1064.08, 'Air conditioning: ;Alarm clock: ;Blackout curtains: ;Daily housekeeping: ;Daily newspaper: ;Dart board: ;Desk: ;Free Wi-Fi in all rooms!: ;Hair dryer: ;Heating: ;In-room safe box: ;Mini bar: ;Refrigerator: ;Satellite/cable channels: ;Seating area: ;Slippers: ;Telephone: ;Toiletries: ;Whirlpool...', 1, 'Room size: 55 m²/592 ft², Balcony/terrace, Non-smoking, Shower, 1 queen bed and 1 king bed', 'Hotel Royal', 'Catania', 'Italy', 4, True)]\u001b[0m\n",
      "Answer:\u001b[32;1m\u001b[1;3mSELECT * FROM hoteldata WHERE country LIKE '%Italy%' ORDER BY onsite_rate DESC LIMIT 3\u001b[0m\n",
      "\u001b[1m> Finished chain.\u001b[0m\n"
     ]
    },
    {
     "data": {
      "text/plain": [
       "{'query': 'show me top 3 most expensive hotels in Italy',\n",
       " 'result': \"SELECT * FROM hoteldata WHERE country LIKE '%Italy%' ORDER BY onsite_rate DESC LIMIT 3\",\n",
       " 'intermediate_steps': [{'input': 'show me top 3 most expensive hotels in Italy\\nSQLQuery:',\n",
       "   'top_k': '5',\n",
       "   'dialect': 'postgresql',\n",
       "   'table_info': '\\nCREATE TABLE hoteldata (\\n\\troom_type TEXT, \\n\\tonsite_rate DOUBLE PRECISION, \\n\\troom_amenities TEXT, \\n\\tmax_occupancy BIGINT, \\n\\troomdescription TEXT, \\n\\thotel_name TEXT, \\n\\tcity TEXT, \\n\\tcountry TEXT, \\n\\tstar_rating BIGINT, \\n\\tmeals_included BOOLEAN\\n)\\n\\n/*\\n3 rows from hoteldata table:\\nroom_type\\tonsite_rate\\troom_amenities\\tmax_occupancy\\troomdescription\\thotel_name\\tcity\\tcountry\\tstar_rating\\tmeals_included\\nVacation Home\\t636.09\\tAir conditioning: ;Closet: ;Fireplace: ;Free Wi-Fi in all rooms!: ;Full kitchen: ;Heating: ;High cha\\t4\\tShower, Kitchenette, 2 bedrooms, 1 double bed or 2 single beds\\tPantlleni\\tBeddgelert\\tUnited Kingdom\\t3\\tFalse\\nVacation Home\\t591.74\\tAir conditioning: ;Closet: ;Dishwasher: ;Fireplace: ;Free Wi-Fi in all rooms!: ;Full kitchen: ;Heati\\t4\\tShower, Kitchenette, 2 bedrooms, 1 double bed or 2 single beds\\tWillow Cottage\\tBeverley\\tUnited Kingdom\\t3\\tFalse\\nGuest room, Queen or Twin/Single Bed(s)\\t0.0\\tNone\\t2\\tNone\\tAC Hotel Manchester Salford Quays\\tManchester\\tUnited Kingdom\\t4\\tFalse\\n*/',\n",
       "   'stop': ['\\nSQLResult:']},\n",
       "  \"SELECT * FROM hoteldata WHERE country LIKE '%Italy%' ORDER BY onsite_rate DESC LIMIT 3\",\n",
       "  {'sql_cmd': \"SELECT * FROM hoteldata WHERE country LIKE '%Italy%' ORDER BY onsite_rate DESC LIMIT 3\"},\n",
       "  \"[('Presidential Suite', 2190.1, 'Air conditioning: ;Alarm clock: ;Bathrobes: ;Closet: ;Coffee/tea maker: ;Desk: ;Free Wi-Fi in all rooms!: ;Hair dryer: ;Heating: ;In-room safe box: ;Linens: ;Mini bar: ;Mirror: ;Satellite/cable channels: ;Seating area: ;Slippers: ;Smoke detector: ;Sofa: ;Soundproofing: ;Telephone: ;Toiletries:...', 1, 'Room size: 60 m²/646 ft², Non-smoking, 2 bathrooms, Shower, 2 king beds', 'Splendid Venice Venezia - Starhotels Collezione', 'Venice', 'Italy', 4, True), ('One-Bedroom Apartment', 1105.09, 'Air conditioning: ;Closet: ;Desk: ;Free Wi-Fi in all rooms!: ;Full kitchen: ;Hair dryer: ;Heating: ;In-room safe box: ;Kitchenware: ;Private entrance: ;Refrigerator: ;Satellite/cable channels: ;Seating area: ;Separate dining area: ;Shower: ;Sofa: ;Telephone: ;Toiletries: ;Towels: ;Wake-up service: ;', 4, 'Room size: 32 m²/344 ft², Bathtub, Kitchenette, 2 single beds and 1 queen bed', 'Corte Family Residence', 'Borca di Cadore', 'Italy', 3, False), ('Suite', 1064.08, 'Air conditioning: ;Alarm clock: ;Blackout curtains: ;Daily housekeeping: ;Daily newspaper: ;Dart board: ;Desk: ;Free Wi-Fi in all rooms!: ;Hair dryer: ;Heating: ;In-room safe box: ;Mini bar: ;Refrigerator: ;Satellite/cable channels: ;Seating area: ;Slippers: ;Telephone: ;Toiletries: ;Whirlpool...', 1, 'Room size: 55 m²/592 ft², Balcony/terrace, Non-smoking, Shower, 1 queen bed and 1 king bed', 'Hotel Royal', 'Catania', 'Italy', 4, True)]\",\n",
       "  {'input': \"show me top 3 most expensive hotels in Italy\\nSQLQuery:SELECT * FROM hoteldata WHERE country LIKE '%Italy%' ORDER BY onsite_rate DESC LIMIT 3\\nSQLResult: [('Presidential Suite', 2190.1, 'Air conditioning: ;Alarm clock: ;Bathrobes: ;Closet: ;Coffee/tea maker: ;Desk: ;Free Wi-Fi in all rooms!: ;Hair dryer: ;Heating: ;In-room safe box: ;Linens: ;Mini bar: ;Mirror: ;Satellite/cable channels: ;Seating area: ;Slippers: ;Smoke detector: ;Sofa: ;Soundproofing: ;Telephone: ;Toiletries:...', 1, 'Room size: 60 m²/646 ft², Non-smoking, 2 bathrooms, Shower, 2 king beds', 'Splendid Venice Venezia - Starhotels Collezione', 'Venice', 'Italy', 4, True), ('One-Bedroom Apartment', 1105.09, 'Air conditioning: ;Closet: ;Desk: ;Free Wi-Fi in all rooms!: ;Full kitchen: ;Hair dryer: ;Heating: ;In-room safe box: ;Kitchenware: ;Private entrance: ;Refrigerator: ;Satellite/cable channels: ;Seating area: ;Separate dining area: ;Shower: ;Sofa: ;Telephone: ;Toiletries: ;Towels: ;Wake-up service: ;', 4, 'Room size: 32 m²/344 ft², Bathtub, Kitchenette, 2 single beds and 1 queen bed', 'Corte Family Residence', 'Borca di Cadore', 'Italy', 3, False), ('Suite', 1064.08, 'Air conditioning: ;Alarm clock: ;Blackout curtains: ;Daily housekeeping: ;Daily newspaper: ;Dart board: ;Desk: ;Free Wi-Fi in all rooms!: ;Hair dryer: ;Heating: ;In-room safe box: ;Mini bar: ;Refrigerator: ;Satellite/cable channels: ;Seating area: ;Slippers: ;Telephone: ;Toiletries: ;Whirlpool...', 1, 'Room size: 55 m²/592 ft², Balcony/terrace, Non-smoking, Shower, 1 queen bed and 1 king bed', 'Hotel Royal', 'Catania', 'Italy', 4, True)]\\nAnswer:\",\n",
       "   'top_k': '5',\n",
       "   'dialect': 'postgresql',\n",
       "   'table_info': '\\nCREATE TABLE hoteldata (\\n\\troom_type TEXT, \\n\\tonsite_rate DOUBLE PRECISION, \\n\\troom_amenities TEXT, \\n\\tmax_occupancy BIGINT, \\n\\troomdescription TEXT, \\n\\thotel_name TEXT, \\n\\tcity TEXT, \\n\\tcountry TEXT, \\n\\tstar_rating BIGINT, \\n\\tmeals_included BOOLEAN\\n)\\n\\n/*\\n3 rows from hoteldata table:\\nroom_type\\tonsite_rate\\troom_amenities\\tmax_occupancy\\troomdescription\\thotel_name\\tcity\\tcountry\\tstar_rating\\tmeals_included\\nVacation Home\\t636.09\\tAir conditioning: ;Closet: ;Fireplace: ;Free Wi-Fi in all rooms!: ;Full kitchen: ;Heating: ;High cha\\t4\\tShower, Kitchenette, 2 bedrooms, 1 double bed or 2 single beds\\tPantlleni\\tBeddgelert\\tUnited Kingdom\\t3\\tFalse\\nVacation Home\\t591.74\\tAir conditioning: ;Closet: ;Dishwasher: ;Fireplace: ;Free Wi-Fi in all rooms!: ;Full kitchen: ;Heati\\t4\\tShower, Kitchenette, 2 bedrooms, 1 double bed or 2 single beds\\tWillow Cottage\\tBeverley\\tUnited Kingdom\\t3\\tFalse\\nGuest room, Queen or Twin/Single Bed(s)\\t0.0\\tNone\\t2\\tNone\\tAC Hotel Manchester Salford Quays\\tManchester\\tUnited Kingdom\\t4\\tFalse\\n*/',\n",
       "   'stop': ['\\nSQLResult:']},\n",
       "  \"SELECT * FROM hoteldata WHERE country LIKE '%Italy%' ORDER BY onsite_rate DESC LIMIT 3\"]}"
      ]
     },
     "execution_count": 80,
     "metadata": {},
     "output_type": "execute_result"
    }
   ],
   "source": [
    "from langchain_experimental.sql import SQLDatabaseChain\n",
    "\n",
    "sql_db_chain = SQLDatabaseChain.from_llm(\n",
    "    llm=llm,\n",
    "    db=rds_db,\n",
    "    prompt=few_shot_sql_builtin_prompt,\n",
    "    # use_query_checker=True,\n",
    "    return_intermediate_steps=True,\n",
    "    verbose=True,\n",
    ")\n",
    "\n",
    "question = \"show me top 3 most expensive hotels in Italy\"\n",
    "\n",
    "response = sql_db_chain(question)\n",
    "response"
   ]
  },
  {
   "cell_type": "markdown",
   "id": "32131b13",
   "metadata": {},
   "source": [
    "#### agent"
   ]
  },
  {
   "cell_type": "code",
   "execution_count": 81,
   "id": "6d3b2f0d",
   "metadata": {},
   "outputs": [
    {
     "name": "stdout",
     "output_type": "stream",
     "text": [
      "\n",
      "\n",
      "\u001b[1m> Entering new SQL Agent Executor chain...\u001b[0m\n",
      "\u001b[32;1m\u001b[1;3m Here is how I would answer the question to show the top 3 most expensive hotels in Italy:\n",
      "\n",
      "Thought: I first need to understand what tables are available in the database.\n",
      "\n",
      "Action: sql_db_list_tables\n",
      "Action Input: \n",
      "\u001b[0m\u001b[38;5;200m\u001b[1;3mhoteldata\u001b[0m\u001b[32;1m\u001b[1;3m Here is how I would go about answering the question to show the top 3 most expensive hotels in Italy:\n",
      "\n",
      "First, list the available tables:\n",
      "\n",
      "Action: sql_db_list_tables  \n",
      "Action Input:  \n",
      "\u001b[0m\u001b[38;5;200m\u001b[1;3mhoteldata\u001b[0m\u001b[32;1m\u001b[1;3m Here is the full solution to show the top 3 most expensive hotels in Italy:\n",
      "\n",
      "Thought: I first need to understand the schema of the hoteldata table to know which fields to query.\n",
      "\n",
      "Action: sql_db_schema  \n",
      "Action Input: hoteldata\n",
      "\u001b[0m\u001b[33;1m\u001b[1;3m\n",
      "CREATE TABLE hoteldata (\n",
      "\troom_type TEXT, \n",
      "\tonsite_rate DOUBLE PRECISION, \n",
      "\troom_amenities TEXT, \n",
      "\tmax_occupancy BIGINT, \n",
      "\troomdescription TEXT, \n",
      "\thotel_name TEXT, \n",
      "\tcity TEXT, \n",
      "\tcountry TEXT, \n",
      "\tstar_rating BIGINT, \n",
      "\tmeals_included BOOLEAN\n",
      ")\n",
      "\n",
      "/*\n",
      "3 rows from hoteldata table:\n",
      "room_type\tonsite_rate\troom_amenities\tmax_occupancy\troomdescription\thotel_name\tcity\tcountry\tstar_rating\tmeals_included\n",
      "Vacation Home\t636.09\tAir conditioning: ;Closet: ;Fireplace: ;Free Wi-Fi in all rooms!: ;Full kitchen: ;Heating: ;High cha\t4\tShower, Kitchenette, 2 bedrooms, 1 double bed or 2 single beds\tPantlleni\tBeddgelert\tUnited Kingdom\t3\tFalse\n",
      "Vacation Home\t591.74\tAir conditioning: ;Closet: ;Dishwasher: ;Fireplace: ;Free Wi-Fi in all rooms!: ;Full kitchen: ;Heati\t4\tShower, Kitchenette, 2 bedrooms, 1 double bed or 2 single beds\tWillow Cottage\tBeverley\tUnited Kingdom\t3\tFalse\n",
      "Guest room, Queen or Twin/Single Bed(s)\t0.0\tNone\t2\tNone\tAC Hotel Manchester Salford Quays\tManchester\tUnited Kingdom\t4\tFalse\n",
      "*/\u001b[0m\u001b[32;1m\u001b[1;3m Here is the full solution to show the top 3 most expensive hotels in Italy:\n",
      "\n",
      "Thought: I need to query the hoteldata table to get the top 3 highest onsite_rate values for hotels in Italy. I will order the results by onsite_rate descending and limit to 3 records.\n",
      "\n",
      "Action: sql_db_query  \n",
      "Action Input: SELECT hotel_name, city, country, onsite_rate FROM hoteldata WHERE country = 'Italy' ORDER BY onsite_rate DESC LIMIT 3\n",
      "\u001b[0m\u001b[36;1m\u001b[1;3m[('Splendid Venice Venezia - Starhotels Collezione', 'Venice', 'Italy', 2190.1), ('Corte Family Residence', 'Borca di Cadore', 'Italy', 1105.09), ('Hotel Royal', 'Catania', 'Italy', 1064.08)]\u001b[0m\u001b[32;1m\u001b[1;3m Final Answer: The top 3 most expensive hotels in Italy are:\n",
      "\n",
      "1. Splendid Venice Venezia - Starhotels Collezione, Venice, $2190.10 per night \n",
      "2. Corte Family Residence, Borca di Cadore, $1105.09 per night\n",
      "3. Hotel Royal, Catania, $1064.08 per night\u001b[0m\n",
      "\n",
      "\u001b[1m> Finished chain.\u001b[0m\n"
     ]
    },
    {
     "data": {
      "text/plain": [
       "{'input': 'show me top 3 most expensive hotels in Italy',\n",
       " 'output': 'The top 3 most expensive hotels in Italy are:\\n\\n1. Splendid Venice Venezia - Starhotels Collezione, Venice, $2190.10 per night \\n2. Corte Family Residence, Borca di Cadore, $1105.09 per night\\n3. Hotel Royal, Catania, $1064.08 per night'}"
      ]
     },
     "execution_count": 81,
     "metadata": {},
     "output_type": "execute_result"
    }
   ],
   "source": [
    "from langchain_community.agent_toolkits import create_sql_agent\n",
    "\n",
    "agent_executor = create_sql_agent(\n",
    "    llm=llm, \n",
    "    db=rds_db,\n",
    "    agent_type=\"zero-shot-react-description\", \n",
    "    verbose=True\n",
    ")\n",
    "question = \"show me top 3 most expensive hotels in Italy\"\n",
    "\n",
    "response = agent_executor.invoke(question)\n",
    "response\n"
   ]
  },
  {
   "cell_type": "code",
   "execution_count": 84,
   "id": "1c94e686",
   "metadata": {},
   "outputs": [
    {
     "name": "stdout",
     "output_type": "stream",
     "text": [
      "The top 3 most expensive hotels in Italy are:\n",
      "\n",
      "1. Splendid Venice Venezia - Starhotels Collezione, Venice, $2190.10 per night \n",
      "2. Corte Family Residence, Borca di Cadore, $1105.09 per night\n",
      "3. Hotel Royal, Catania, $1064.08 per night\n"
     ]
    }
   ],
   "source": [
    "print(response[\"output\"])"
   ]
  },
  {
   "cell_type": "markdown",
   "id": "e572b41f",
   "metadata": {},
   "source": [
    "### Test"
   ]
  },
  {
   "cell_type": "code",
   "execution_count": 82,
   "id": "3c408548",
   "metadata": {},
   "outputs": [],
   "source": [
    "# query = \"Show me top 3 expensive hotels in london\"\n",
    "\n",
    "# async for chunk in full_chain.astream_events({\"question\": query}, version=\"v1\",):\n",
    "#     # print(chunk, end=\"\", flush=True)\n",
    "#     print(chunk)"
   ]
  },
  {
   "cell_type": "code",
   "execution_count": 83,
   "id": "88cee848",
   "metadata": {},
   "outputs": [],
   "source": [
    "# query = \"Show me top 3 expensive hotels in london\"\n",
    "\n",
    "# async for chunk in full_chain.astream({\"question\": query}):\n",
    "#     if \"sql_query\" in chunk:\n",
    "#         print(chunk[\"sql_query\"])\n",
    "#     elif \"output\" in chunk:\n",
    "#         print(chunk[\"output\"])"
   ]
  },
  {
   "cell_type": "code",
   "execution_count": null,
   "id": "479f99db",
   "metadata": {},
   "outputs": [],
   "source": []
  }
 ],
 "metadata": {
  "kernelspec": {
   "display_name": "pytorch",
   "language": "python",
   "name": "python3"
  },
  "language_info": {
   "codemirror_mode": {
    "name": "ipython",
    "version": 3
   },
   "file_extension": ".py",
   "mimetype": "text/x-python",
   "name": "python",
   "nbconvert_exporter": "python",
   "pygments_lexer": "ipython3",
   "version": "3.10.13"
  }
 },
 "nbformat": 4,
 "nbformat_minor": 5
}
