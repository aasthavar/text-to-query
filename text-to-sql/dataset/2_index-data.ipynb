{
 "cells": [
  {
   "cell_type": "code",
   "execution_count": 1,
   "id": "af904160-f2ba-4893-ae9d-3a386c02ea5e",
   "metadata": {
    "tags": []
   },
   "outputs": [],
   "source": [
    "# !pip install langchain_community --quiet"
   ]
  },
  {
   "cell_type": "code",
   "execution_count": 2,
   "id": "e7b04950-672f-4fdc-ac16-729a44a9877b",
   "metadata": {},
   "outputs": [],
   "source": [
    "import json\n",
    "import pandas as pd\n",
    "from langchain.sql_database import SQLDatabase\n",
    "from langchain_community.utilities import SQLDatabase\n",
    "from sqlalchemy import create_engine"
   ]
  },
  {
   "cell_type": "code",
   "execution_count": 4,
   "id": "ee81616d-0766-4576-bec5-b4a9306cf641",
   "metadata": {
    "tags": []
   },
   "outputs": [],
   "source": [
    "with open(\"/home/ubuntu/config.json\") as file:\n",
    "    config = json.load(file)\n",
    "\n",
    "database_uri = \"postgresql://{user}:{password}@{host}:{port}/{database}\".format(**config[\"rds_connect\"])"
   ]
  },
  {
   "cell_type": "code",
   "execution_count": 5,
   "id": "da6dfab6-d5b8-41b0-9ca1-dd1029399245",
   "metadata": {
    "tags": []
   },
   "outputs": [],
   "source": [
    "rds_engine = create_engine(url=database_uri)"
   ]
  },
  {
   "cell_type": "code",
   "execution_count": 6,
   "id": "847a418b-3951-431c-920a-246b7d0d7b10",
   "metadata": {
    "tags": []
   },
   "outputs": [],
   "source": [
    "df = pd.read_csv(\"hotel-recommendations-cleaned.csv\")\n",
    "# df.head()\n",
    "# df.to_sql?"
   ]
  },
  {
   "cell_type": "code",
   "execution_count": 7,
   "id": "84e7f323-45fc-40ba-8f06-c6495dfc0464",
   "metadata": {
    "tags": []
   },
   "outputs": [
    {
     "name": "stdout",
     "output_type": "stream",
     "text": [
      "CPU times: user 576 ms, sys: 14.2 ms, total: 590 ms\n",
      "Wall time: 1.53 s\n"
     ]
    },
    {
     "data": {
      "text/plain": [
       "907"
      ]
     },
     "execution_count": 7,
     "metadata": {},
     "output_type": "execute_result"
    }
   ],
   "source": [
    "%%time\n",
    "df.to_sql(\n",
    "    name=\"hoteldata\",  # table_name\n",
    "    con=rds_engine, \n",
    "    if_exists=\"replace\",\n",
    "    index=False\n",
    ")"
   ]
  },
  {
   "cell_type": "code",
   "execution_count": 8,
   "id": "ddeaaca6-6da0-459c-97cb-0ed8f6bf619d",
   "metadata": {
    "tags": []
   },
   "outputs": [
    {
     "name": "stdout",
     "output_type": "stream",
     "text": [
      "postgresql\n",
      "['hoteldata']\n"
     ]
    }
   ],
   "source": [
    "rds_db = SQLDatabase.from_uri(database_uri=database_uri)\n",
    "print(rds_db.dialect)\n",
    "print(rds_db.get_usable_table_names())"
   ]
  },
  {
   "cell_type": "code",
   "execution_count": 9,
   "id": "021774b1-be12-4d06-af03-6efa96851d9c",
   "metadata": {},
   "outputs": [
    {
     "name": "stdout",
     "output_type": "stream",
     "text": [
      "\n",
      "CREATE TABLE hoteldata (\n",
      "\troom_type TEXT, \n",
      "\tonsite_rate DOUBLE PRECISION, \n",
      "\troom_amenities TEXT, \n",
      "\tmax_occupancy BIGINT, \n",
      "\troomdescription TEXT, \n",
      "\thotel_name TEXT, \n",
      "\tcity TEXT, \n",
      "\tcountry TEXT, \n",
      "\tstar_rating BIGINT, \n",
      "\tmeals_included BOOLEAN\n",
      ")\n",
      "\n",
      "/*\n",
      "3 rows from hoteldata table:\n",
      "room_type\tonsite_rate\troom_amenities\tmax_occupancy\troomdescription\thotel_name\tcity\tcountry\tstar_rating\tmeals_included\n",
      "Vacation Home\t636.09\tAir conditioning: ;Closet: ;Fireplace: ;Free Wi-Fi in all rooms!: ;Full kitchen: ;Heating: ;High cha\t4\tShower, Kitchenette, 2 bedrooms, 1 double bed or 2 single beds\tPantlleni\tBeddgelert\tUnited Kingdom\t3\tFalse\n",
      "Vacation Home\t591.74\tAir conditioning: ;Closet: ;Dishwasher: ;Fireplace: ;Free Wi-Fi in all rooms!: ;Full kitchen: ;Heati\t4\tShower, Kitchenette, 2 bedrooms, 1 double bed or 2 single beds\tWillow Cottage\tBeverley\tUnited Kingdom\t3\tFalse\n",
      "Guest room, Queen or Twin/Single Bed(s)\t0.0\tNone\t2\tNone\tAC Hotel Manchester Salford Quays\tManchester\tUnited Kingdom\t4\tFalse\n",
      "*/\n"
     ]
    }
   ],
   "source": [
    "print(rds_db.get_table_info())"
   ]
  },
  {
   "cell_type": "code",
   "execution_count": null,
   "id": "94d4d619-7e70-4ef6-84e2-d61b0c7e97f3",
   "metadata": {},
   "outputs": [],
   "source": []
  }
 ],
 "metadata": {
  "kernelspec": {
   "display_name": "pytorch",
   "language": "python",
   "name": "python3"
  },
  "language_info": {
   "codemirror_mode": {
    "name": "ipython",
    "version": 3
   },
   "file_extension": ".py",
   "mimetype": "text/x-python",
   "name": "python",
   "nbconvert_exporter": "python",
   "pygments_lexer": "ipython3",
   "version": "3.10.13"
  }
 },
 "nbformat": 4,
 "nbformat_minor": 5
}
