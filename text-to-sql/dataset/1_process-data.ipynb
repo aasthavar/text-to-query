{
 "cells": [
  {
   "cell_type": "code",
   "execution_count": 2,
   "id": "33fd1a04-4d41-44fc-a9ed-658792590c06",
   "metadata": {},
   "outputs": [
    {
     "name": "stdout",
     "output_type": "stream",
     "text": [
      "hotel-recommendation.zip: Skipping, found more recently modified local copy (use --force to force download)\n",
      "Archive:  hotel-recommendation.zip\n",
      "replace hotel-recommendations/Hotel_Room_attributes.csv? [y]es, [n]o, [A]ll, [N]one, [r]ename: ^C\n"
     ]
    }
   ],
   "source": [
    "# download_dir=\"hotel-recommendations\"\n",
    "\n",
    "# !kaggle datasets download -d keshavramaiah/hotel-recommendation\n",
    "\n",
    "# !unzip hotel-recommendation.zip -d $download_dir\n",
    "\n",
    "# !rm hotel-recommendation.zip\n"
   ]
  },
  {
   "cell_type": "code",
   "execution_count": 5,
   "id": "ce2e71c5-97d0-4f31-be0b-f674ff9b1755",
   "metadata": {
    "tags": []
   },
   "outputs": [],
   "source": [
    "import pandas as pd"
   ]
  },
  {
   "cell_type": "code",
   "execution_count": 6,
   "id": "cfea1c74-c11c-482b-b4ee-215ff06df3a3",
   "metadata": {
    "tags": []
   },
   "outputs": [],
   "source": [
    "data_dir_path = \"hotel-recommendations\"\n",
    "\n",
    "details = (\n",
    "    pd.read_csv(f\"{data_dir_path}/Hotel_details.csv\")\n",
    "    .drop_duplicates(subset=\"hotelid\")\n",
    "    .set_index(\"hotelid\")\n",
    ")\n",
    "attributes = pd.read_csv(\n",
    "    f\"{data_dir_path}/Hotel_Room_attributes.csv\", index_col=\"id\"\n",
    ")\n",
    "price = pd.read_csv(f\"{data_dir_path}/hotels_RoomPrice.csv\", index_col=\"id\")"
   ]
  },
  {
   "cell_type": "code",
   "execution_count": 7,
   "id": "e7ae615f-8ee0-4bd8-a9ca-294d1b2fab8a",
   "metadata": {
    "tags": []
   },
   "outputs": [
    {
     "name": "stdout",
     "output_type": "stream",
     "text": [
      "shape: (11922, 10)\n"
     ]
    }
   ],
   "source": [
    "data = price.drop_duplicates(subset=\"refid\", keep=\"last\")[\n",
    "    [\n",
    "        \"hotelcode\",\n",
    "        \"roomtype\",\n",
    "        \"onsiterate\",\n",
    "        \"roomamenities\",\n",
    "        \"maxoccupancy\",\n",
    "        \"mealinclusiontype\",\n",
    "    ]\n",
    "]\n",
    "\n",
    "data[\"ratedescription\"] = attributes.loc[data.index][\"ratedescription\"]\n",
    "data = data.join(\n",
    "    details[[\"hotelname\", \"city\", \"country\", \"starrating\"]], on=\"hotelcode\"\n",
    ")\n",
    "data = data.rename({\"ratedescription\": \"roomdescription\"}, axis=1)\n",
    "data[\"mealsincluded\"] = ~data[\"mealinclusiontype\"].isnull()\n",
    "data.pop(\"hotelcode\")\n",
    "data.pop(\"mealinclusiontype\")\n",
    "data = data.reset_index(drop=True)\n",
    "\n",
    "print(f\"shape: {data.shape}\")"
   ]
  },
  {
   "cell_type": "code",
   "execution_count": 8,
   "id": "6ddb940a-969b-4407-8ea4-c6787087dbea",
   "metadata": {
    "tags": []
   },
   "outputs": [
    {
     "data": {
      "text/plain": [
       "['roomtype',\n",
       " 'onsiterate',\n",
       " 'roomamenities',\n",
       " 'maxoccupancy',\n",
       " 'roomdescription',\n",
       " 'hotelname',\n",
       " 'city',\n",
       " 'country',\n",
       " 'starrating',\n",
       " 'mealsincluded']"
      ]
     },
     "execution_count": 8,
     "metadata": {},
     "output_type": "execute_result"
    }
   ],
   "source": [
    "data.columns.tolist()"
   ]
  },
  {
   "cell_type": "code",
   "execution_count": 9,
   "id": "64266175-00e6-47df-8006-0b1278e20938",
   "metadata": {
    "tags": []
   },
   "outputs": [],
   "source": [
    "data = data.rename(columns={\n",
    "    \"roomtype\": \"room_type\",\n",
    "    \"onsiterate\": \"onsite_rate\",\n",
    "    \"roomamenities\": \"room_amenities\",\n",
    "    \"maxoccupancy\": \"max_occupancy\",\n",
    "    \"hotelname\": \"hotel_name\",\n",
    "    \"starrating\": \"star_rating\",\n",
    "    \"mealsincluded\": \"meals_included\"\n",
    "})"
   ]
  },
  {
   "cell_type": "code",
   "execution_count": 10,
   "id": "68a464d7-fb8f-4473-af93-39ee46dd1f09",
   "metadata": {
    "tags": []
   },
   "outputs": [
    {
     "data": {
      "text/plain": [
       "['room_type',\n",
       " 'onsite_rate',\n",
       " 'room_amenities',\n",
       " 'max_occupancy',\n",
       " 'roomdescription',\n",
       " 'hotel_name',\n",
       " 'city',\n",
       " 'country',\n",
       " 'star_rating',\n",
       " 'meals_included']"
      ]
     },
     "execution_count": 10,
     "metadata": {},
     "output_type": "execute_result"
    }
   ],
   "source": [
    "data.columns.tolist()"
   ]
  },
  {
   "cell_type": "code",
   "execution_count": 11,
   "id": "e4c32c2b-458b-4799-9c49-1a75dbe628ef",
   "metadata": {
    "collapsed": true,
    "jupyter": {
     "outputs_hidden": true
    },
    "tags": []
   },
   "outputs": [
    {
     "name": "stdout",
     "output_type": "stream",
     "text": [
      "col: room_type, unique_values_count: 2635\n",
      "Examples: ['Double Room', 'Family Room', 'Vacation Home', 'Triple Room', 'Suite']\n",
      "-------------------- \n",
      "\n",
      "col: onsite_rate, unique_values_count: 4084\n",
      "Examples: [0.0, 95.03, 89.75, 126.71, 90.42]\n",
      "-------------------- \n",
      "\n",
      "col: room_amenities, unique_values_count: 6612\n",
      "Examples: ['Air conditioning: ;Free Wi-Fi in all rooms!: ;In-room safe box: ;Shower: ;TV: ;', 'Air conditioning: ;Free Wi-Fi in all rooms!: ;In-room safe box: ;Shower: ;Telephone: ;TV: ;', 'Air conditioning: ;Free Wi-Fi in all rooms!: ;In-room safe box: ;Shower: ;TV [flat screen]: ;', 'Air conditioning: ;Free Wi-Fi in all rooms!: ;Heating: ;In-room safe box: ;Laptop workspace: ;Shower: ;Towels: ;TV [flat screen]: ;', 'Air conditioning: ;Heating: ;In-room safe box: ;Internet access – wireless: ;Laptop workspace: ;Shower: ;Towels: ;TV [flat screen]: ;']\n",
      "-------------------- \n",
      "\n",
      "col: max_occupancy, unique_values_count: 19\n",
      "Examples: [2, 1, 4, 3, 6]\n",
      "-------------------- \n",
      "\n",
      "col: roomdescription, unique_values_count: 4701\n",
      "Examples: ['Free Wi-Fi, Extra low price! (non-refundable)', 'Room size: 21 m²/226 ft², Non-smoking, 2 single beds and 1 king bed', 'Shower, 1 double bed', 'Free Wi-Fi, Cancellation policy', 'Shower, Kitchenette, 2 bedrooms, 1 double bed or 2 single beds']\n",
      "-------------------- \n",
      "\n",
      "col: hotel_name, unique_values_count: 8917\n",
      "Examples: ['Hotel des Voyageurs', 'Hotel Europa', 'The Royal Hotel', 'Castle Hotel', 'Park Hotel']\n",
      "-------------------- \n",
      "\n",
      "col: city, unique_values_count: 4571\n",
      "Examples: ['London', 'Paris', 'Rome', 'Manchester', 'Berlin']\n",
      "-------------------- \n",
      "\n",
      "col: country, unique_values_count: 29\n",
      "Examples: ['United Kingdom', 'France', 'Italy', 'Germany', 'Spain']\n",
      "-------------------- \n",
      "\n",
      "col: star_rating, unique_values_count: 3\n",
      "Examples: [3, 4, 2]\n",
      "-------------------- \n",
      "\n",
      "col: meals_included, unique_values_count: 2\n",
      "Examples: [True, False]\n",
      "-------------------- \n",
      "\n"
     ]
    }
   ],
   "source": [
    "for col in data.columns:\n",
    "    values = data[col].value_counts().index.tolist()\n",
    "    print(f\"col: {col}, unique_values_count: {len(values)}\")\n",
    "    print(f\"Examples: {values[:5]}\")\n",
    "    print(\"-\"*20, \"\\n\")\n"
   ]
  },
  {
   "cell_type": "code",
   "execution_count": 12,
   "id": "cd9feed6-5967-46dd-b80d-eebd955692d1",
   "metadata": {
    "tags": []
   },
   "outputs": [
    {
     "data": {
      "text/plain": [
       "False    10907\n",
       "True      1015\n",
       "Name: count, dtype: int64"
      ]
     },
     "execution_count": 12,
     "metadata": {},
     "output_type": "execute_result"
    }
   ],
   "source": [
    "data.duplicated().value_counts()"
   ]
  },
  {
   "cell_type": "code",
   "execution_count": 13,
   "id": "f01b2e42-e7cb-47ce-b648-d283c332bfdf",
   "metadata": {
    "tags": []
   },
   "outputs": [],
   "source": [
    "data.drop_duplicates(inplace=True)"
   ]
  },
  {
   "cell_type": "code",
   "execution_count": 14,
   "id": "516ec0fa-431f-4800-b8cd-71e53162da17",
   "metadata": {
    "tags": []
   },
   "outputs": [
    {
     "data": {
      "text/plain": [
       "(10907, 10)"
      ]
     },
     "execution_count": 14,
     "metadata": {},
     "output_type": "execute_result"
    }
   ],
   "source": [
    "data.shape"
   ]
  },
  {
   "cell_type": "code",
   "execution_count": 15,
   "id": "9e09ef4b-afb7-4db6-84bb-c7356cf3bd88",
   "metadata": {
    "tags": []
   },
   "outputs": [
    {
     "data": {
      "text/html": [
       "<div>\n",
       "<style scoped>\n",
       "    .dataframe tbody tr th:only-of-type {\n",
       "        vertical-align: middle;\n",
       "    }\n",
       "\n",
       "    .dataframe tbody tr th {\n",
       "        vertical-align: top;\n",
       "    }\n",
       "\n",
       "    .dataframe thead th {\n",
       "        text-align: right;\n",
       "    }\n",
       "</style>\n",
       "<table border=\"1\" class=\"dataframe\">\n",
       "  <thead>\n",
       "    <tr style=\"text-align: right;\">\n",
       "      <th></th>\n",
       "      <th>room_type</th>\n",
       "      <th>onsite_rate</th>\n",
       "      <th>room_amenities</th>\n",
       "      <th>max_occupancy</th>\n",
       "      <th>roomdescription</th>\n",
       "      <th>hotel_name</th>\n",
       "      <th>city</th>\n",
       "      <th>country</th>\n",
       "      <th>star_rating</th>\n",
       "      <th>meals_included</th>\n",
       "    </tr>\n",
       "  </thead>\n",
       "  <tbody>\n",
       "    <tr>\n",
       "      <th>0</th>\n",
       "      <td>Vacation Home</td>\n",
       "      <td>636.09</td>\n",
       "      <td>Air conditioning: ;Closet: ;Fireplace: ;Free W...</td>\n",
       "      <td>4</td>\n",
       "      <td>Shower, Kitchenette, 2 bedrooms, 1 double bed ...</td>\n",
       "      <td>Pantlleni</td>\n",
       "      <td>Beddgelert</td>\n",
       "      <td>United Kingdom</td>\n",
       "      <td>3</td>\n",
       "      <td>False</td>\n",
       "    </tr>\n",
       "    <tr>\n",
       "      <th>1</th>\n",
       "      <td>Vacation Home</td>\n",
       "      <td>591.74</td>\n",
       "      <td>Air conditioning: ;Closet: ;Dishwasher: ;Firep...</td>\n",
       "      <td>4</td>\n",
       "      <td>Shower, Kitchenette, 2 bedrooms, 1 double bed ...</td>\n",
       "      <td>Willow Cottage</td>\n",
       "      <td>Beverley</td>\n",
       "      <td>United Kingdom</td>\n",
       "      <td>3</td>\n",
       "      <td>False</td>\n",
       "    </tr>\n",
       "    <tr>\n",
       "      <th>2</th>\n",
       "      <td>Guest room, Queen or Twin/Single Bed(s)</td>\n",
       "      <td>0.00</td>\n",
       "      <td>NaN</td>\n",
       "      <td>2</td>\n",
       "      <td>NaN</td>\n",
       "      <td>AC Hotel Manchester Salford Quays</td>\n",
       "      <td>Manchester</td>\n",
       "      <td>United Kingdom</td>\n",
       "      <td>4</td>\n",
       "      <td>False</td>\n",
       "    </tr>\n",
       "    <tr>\n",
       "      <th>3</th>\n",
       "      <td>Bargemaster King Accessible Room</td>\n",
       "      <td>379.08</td>\n",
       "      <td>Air conditioning: ;Free Wi-Fi in all rooms!: ;...</td>\n",
       "      <td>2</td>\n",
       "      <td>Shower</td>\n",
       "      <td>Lincoln Plaza London, Curio Collection by Hilton</td>\n",
       "      <td>London</td>\n",
       "      <td>United Kingdom</td>\n",
       "      <td>4</td>\n",
       "      <td>True</td>\n",
       "    </tr>\n",
       "    <tr>\n",
       "      <th>4</th>\n",
       "      <td>Twin Room</td>\n",
       "      <td>156.17</td>\n",
       "      <td>Additional toilet: ;Air conditioning: ;Blackou...</td>\n",
       "      <td>2</td>\n",
       "      <td>Room size: 15 m²/161 ft², Non-smoking, Shower,...</td>\n",
       "      <td>Ibis London Canning Town</td>\n",
       "      <td>London</td>\n",
       "      <td>United Kingdom</td>\n",
       "      <td>3</td>\n",
       "      <td>True</td>\n",
       "    </tr>\n",
       "  </tbody>\n",
       "</table>\n",
       "</div>"
      ],
      "text/plain": [
       "                                 room_type  onsite_rate  \\\n",
       "0                            Vacation Home       636.09   \n",
       "1                            Vacation Home       591.74   \n",
       "2  Guest room, Queen or Twin/Single Bed(s)         0.00   \n",
       "3         Bargemaster King Accessible Room       379.08   \n",
       "4                                Twin Room       156.17   \n",
       "\n",
       "                                      room_amenities  max_occupancy  \\\n",
       "0  Air conditioning: ;Closet: ;Fireplace: ;Free W...              4   \n",
       "1  Air conditioning: ;Closet: ;Dishwasher: ;Firep...              4   \n",
       "2                                                NaN              2   \n",
       "3  Air conditioning: ;Free Wi-Fi in all rooms!: ;...              2   \n",
       "4  Additional toilet: ;Air conditioning: ;Blackou...              2   \n",
       "\n",
       "                                     roomdescription  \\\n",
       "0  Shower, Kitchenette, 2 bedrooms, 1 double bed ...   \n",
       "1  Shower, Kitchenette, 2 bedrooms, 1 double bed ...   \n",
       "2                                                NaN   \n",
       "3                                             Shower   \n",
       "4  Room size: 15 m²/161 ft², Non-smoking, Shower,...   \n",
       "\n",
       "                                         hotel_name        city  \\\n",
       "0                                         Pantlleni  Beddgelert   \n",
       "1                                    Willow Cottage    Beverley   \n",
       "2                 AC Hotel Manchester Salford Quays  Manchester   \n",
       "3  Lincoln Plaza London, Curio Collection by Hilton      London   \n",
       "4                          Ibis London Canning Town      London   \n",
       "\n",
       "          country  star_rating  meals_included  \n",
       "0  United Kingdom            3           False  \n",
       "1  United Kingdom            3           False  \n",
       "2  United Kingdom            4           False  \n",
       "3  United Kingdom            4            True  \n",
       "4  United Kingdom            3            True  "
      ]
     },
     "execution_count": 15,
     "metadata": {},
     "output_type": "execute_result"
    }
   ],
   "source": [
    "data.head()"
   ]
  },
  {
   "cell_type": "code",
   "execution_count": 16,
   "id": "9ae1be87-f0e2-44d7-9592-4e51b3753b96",
   "metadata": {
    "tags": []
   },
   "outputs": [],
   "source": [
    "data.to_csv(\"hotel-recommendations-cleaned.csv\", index=False)"
   ]
  },
  {
   "cell_type": "markdown",
   "id": "a57559af-ac79-4c3b-a799-71784d78686b",
   "metadata": {},
   "source": [
    "### below to be used in prompting"
   ]
  },
  {
   "cell_type": "code",
   "execution_count": 17,
   "id": "99d9f350-37bb-4ef0-9e80-d021f0248582",
   "metadata": {
    "tags": []
   },
   "outputs": [],
   "source": [
    "import json, re\n",
    "from pandas.core.common import flatten"
   ]
  },
  {
   "cell_type": "code",
   "execution_count": 18,
   "id": "3b794c80-a067-432d-b011-506fa7f30370",
   "metadata": {
    "tags": []
   },
   "outputs": [
    {
     "name": "stdout",
     "output_type": "stream",
     "text": [
      "Name: `{col_name}`\n",
      "Description: \n",
      "Type: {col_type}\n",
      "Distinct: {distinct_values_list}\n",
      "\n"
     ]
    }
   ],
   "source": [
    "item_desc_format = \"\"\"Name: `{col_name}`\n",
    "Description: \n",
    "Type: {col_type}\n",
    "Distinct: {distinct_values_list}\n",
    "\"\"\"\n",
    "\n",
    "print(item_desc_format)"
   ]
  },
  {
   "cell_type": "code",
   "execution_count": 19,
   "id": "49f8f57e-43c6-4f40-bbf9-cf66f3933800",
   "metadata": {
    "tags": []
   },
   "outputs": [],
   "source": [
    "# data[\"room_type\"].dtype"
   ]
  },
  {
   "cell_type": "code",
   "execution_count": 20,
   "id": "e4c88826-47d5-4b6d-b699-ec6f8e82909d",
   "metadata": {
    "collapsed": true,
    "jupyter": {
     "outputs_hidden": true
    },
    "tags": []
   },
   "outputs": [
    {
     "name": "stdout",
     "output_type": "stream",
     "text": [
      "Name: `room_type`\n",
      "Description: \n",
      "Type: object\n",
      "Distinct: ['Double Room', 'Family Room', 'Vacation Home', 'Triple Room', 'Suite', 'Twin Room', 'Quadruple Room', 'Superior Double Room', 'Junior Suite', 'Double or Twin Room', 'Deluxe Double Room', 'Standard Double Room', 'Single Room', 'Family Room (2 Adults + 2 Children)', 'Apartment', 'Triple', 'Comfort Double Room', 'Family Suite', 'Standard Twin Room', 'Single']\n",
      "\n",
      "Name: `onsite_rate`\n",
      "Description: \n",
      "Type: float64\n",
      "Distinct: [0.0, 95.03, 126.71, 89.75, 90.42, 147.83, 84.48, 79.19, 100.32, 80.37, 116.16, 110.51, 158.39, 137.27, 105.59, 131.99, 104.54, 142.55, 75.35, 85.39]\n",
      "\n",
      "Name: `room_amenities`\n",
      "Description: \n",
      "Type: object\n",
      "Distinct: ['Air conditioning: ;Free Wi-Fi in all rooms!: ;In-room safe box: ;Shower: ;TV: ;', 'Air conditioning: ;Free Wi-Fi in all rooms!: ;In-room safe box: ;Shower: ;Telephone: ;TV: ;', 'Air conditioning: ;Free Wi-Fi in all rooms!: ;Heating: ;In-room safe box: ;Laptop workspace: ;Shower: ;Towels: ;TV [flat screen]: ;', 'Air conditioning: ;Free Wi-Fi in all rooms!: ;In-room safe box: ;Shower: ;TV [flat screen]: ;', 'Air conditioning: ;Heating: ;In-room safe box: ;Internet access – wireless: ;Laptop workspace: ;Shower: ;Towels: ;TV [flat screen]: ;', 'Air conditioning: ;In-room safe box: ;Shower: ;TV: ;', 'Additional bathroom: ;Air conditioning: ;Closet: ;Dishwasher: ;Fireplace: ;Free Wi-Fi in all rooms!: ;Full kitchen: ;Heating: ;High chair: ;In-room safe box: ;Microwave: ;Seating area: ;Separate dining area: ;Sofa: ;TV: ;Washing machine: ;', 'Additional bathroom: ;Air conditioning: ;Closet: ;Dishwasher: ;Free Wi-Fi in all rooms!: ;Full kitchen: ;Heating: ;High chair: ;In-room safe box: ;Microwave: ;Seating area: ;Separate dining area: ;Sofa: ;TV: ;Washing machine: ;', 'Air conditioning: ;Heating: ;In-room safe box: ;Laptop workspace: ;Shower: ;Towels: ;TV [flat screen]: ;Wi-Fi [charges apply]: ;', 'Air conditioning: ;Free Wi-Fi in all rooms!: ;In-room safe box: ;TV: ;', 'Air conditioning: ;Closet: ;Free Wi-Fi in all rooms!: ;In-room safe box: ;Ironing facilities: ;Shower: ;TV: ;', 'Air conditioning: ;Free Wi-Fi in all rooms!: ;In-room safe box: ;Telephone: ;TV: ;', 'Air conditioning: ;Heating: ;In-room safe box: ;Internet access – wireless: ;Laptop workspace: ;Shower: ;Telephone: ;Towels: ;TV [flat screen]: ;', 'Air conditioning: ;Closet: ;Dishwasher: ;Fireplace: ;Free Wi-Fi in all rooms!: ;Full kitchen: ;Heating: ;High chair: ;In-room safe box: ;Microwave: ;Seating area: ;Separate dining area: ;Sofa: ;TV: ;Washing machine: ;', 'Air conditioning: ;Closet: ;Free Wi-Fi in all rooms!: ;Full kitchen: ;Heating: ;In-room safe box: ;Microwave: ;Refrigerator: ;Seating area: ;Separate dining area: ;Sofa: ;TV: ;', 'Air conditioning: ;Closet: ;Free Wi-Fi in all rooms!: ;Full kitchen: ;Heating: ;In-room safe box: ;Microwave: ;Seating area: ;Separate dining area: ;Sofa: ;TV: ;Washing machine: ;', 'Additional bathroom: ;Air conditioning: ;Closet: ;Dishwasher: ;Fireplace: ;Free Wi-Fi in all rooms!: ;Full kitchen: ;Heating: ;In-room safe box: ;Microwave: ;Seating area: ;Separate dining area: ;Sofa: ;TV: ;Washing machine: ;', 'Air conditioning: ;Closet: ;Dishwasher: ;Fireplace: ;Free Wi-Fi in all rooms!: ;Full kitchen: ;Heating: ;In-room safe box: ;Microwave: ;Seating area: ;Separate dining area: ;Sofa: ;TV: ;Washing machine: ;', 'Air conditioning: ;Closet: ;Dishwasher: ;Free Wi-Fi in all rooms!: ;Full kitchen: ;Heating: ;In-room safe box: ;Microwave: ;Seating area: ;Separate dining area: ;Sofa: ;TV: ;Washing machine: ;', 'Air conditioning: ;Closet: ;Dishwasher: ;Free Wi-Fi in all rooms!: ;Full kitchen: ;Heating: ;High chair: ;In-room safe box: ;Microwave: ;Seating area: ;Separate dining area: ;Sofa: ;TV: ;Washing machine: ;']\n",
      "\n",
      "Name: `max_occupancy`\n",
      "Description: \n",
      "Type: int64\n",
      "Distinct: [2, 1, 4, 3, 6, 5, 8, 10, 7, 9, 12, 13, 15, 17, 14, 24, 16, 20, 11]\n",
      "\n",
      "Name: `roomdescription`\n",
      "Description: \n",
      "Type: object\n",
      "Distinct: ['Free Wi-Fi, Extra low price! (non-refundable)', 'Room size: 21 m²/226 ft², Non-smoking, 2 single beds and 1 king bed', 'Shower, 1 double bed', 'Free Wi-Fi, Cancellation policy', 'Free Breakfast, Free Wi-Fi, Cancellation policy', 'Shower, Kitchenette, 2 bedrooms, 1 double bed or 2 single beds', 'Shower and bathtub, 1 double bed', 'Room size: 20 m²/215 ft², Shower, 1 double bed', 'Free Breakfast, Free Wi-Fi, Extra low price! (non-refundable)', 'Room size: 20 m²/215 ft², Shower, 1 queen bed', 'Shower, 2 single beds', 'Room size: 25 m²/269 ft², Shower, 1 queen bed', 'Shower', 'Shower, 1 queen bed', 'Shower, Kitchenette, 1 double bed', 'Room size: 12 m²/129 ft², Shower, 1 double bed', 'Shower, Kitchenette', 'Room size: 18 m²/194 ft², Shower, 1 double bed', 'Room size: 18 m²/194 ft², Shower, 1 queen bed', 'Room size: 16 m²/172 ft², Shower, 1 double bed']\n",
      "\n",
      "Name: `hotel_name`\n",
      "Description: \n",
      "Type: object\n",
      "Distinct: ['The Royal Hotel', 'Hotel Europa', 'Castle Hotel', 'The Red Lion', 'Holiday Inn Express Manchester City Centre Arena', 'Sporthotel Igls', 'North Stafford Hotel Town Centre', 'Hotel Eden', 'The Ship Inn', 'The Castle Hotel', 'The Park Hotel', 'Swan Hotel by Greene King Inns', 'Hotel Panorama', 'Best Western Le Vauban', 'Holiday Inn Express Middlesbrough - Centre Square', 'Kings Hotel', 'Travelodge Hull South Cave', 'Travelodge Nottingham Central', 'Swiss House B&B', 'The Bothy']\n",
      "\n",
      "Name: `city`\n",
      "Description: \n",
      "Type: object\n",
      "Distinct: ['London', 'Paris', 'Rome', 'Manchester', 'Edinburgh', 'Berlin', 'Prague', 'Barcelona', 'Munich', 'Birmingham', 'Madrid', 'Athens', 'Glasgow', 'Milan', 'Amsterdam', 'Aberdeen', 'Florence', 'Venice', 'Liverpool', 'Bournemouth']\n",
      "\n",
      "Name: `country`\n",
      "Description: \n",
      "Type: object\n",
      "Distinct: ['United Kingdom', 'France', 'Italy', 'Germany', 'Spain', 'Greece', 'Poland', 'Switzerland', 'Austria', 'Czech Republic', 'Netherlands', 'Portugal', 'Romania', 'Belgium', 'Bulgaria', 'Hungary', 'Sweden', 'Ireland', 'Denmark', 'Slovakia']\n",
      "\n",
      "Name: `star_rating`\n",
      "Description: \n",
      "Type: int64\n",
      "Distinct: [3, 4, 2]\n",
      "\n",
      "Name: `meals_included`\n",
      "Description: \n",
      "Type: bool\n",
      "Distinct: [True, False]\n",
      "\n"
     ]
    }
   ],
   "source": [
    "col_description_list = []\n",
    "for col in data.columns:\n",
    "    values = data[col].value_counts().index.tolist()\n",
    "    text = item_desc_format.format(\n",
    "        col_name = col,\n",
    "        col_type = data[col].dtype,\n",
    "        distinct_values_list = values[:20], \n",
    "    )\n",
    "    col_description_list.append(text)\n",
    "    \n",
    "for item in col_description_list:\n",
    "    print(item)\n",
    "# print(json.dumps(col_description_list, indent=2, default=str))"
   ]
  },
  {
   "cell_type": "code",
   "execution_count": 21,
   "id": "63973575-28a2-478c-85fe-3d3b2b77a19b",
   "metadata": {
    "tags": []
   },
   "outputs": [
    {
     "name": "stdout",
     "output_type": "stream",
     "text": [
      "['', 'Additional bathroom', 'Additional toilet', 'Air conditioning', 'Air purifier', 'Alarm clock', 'Bathrobes', 'Bathroom phone', 'Blackout curtains', 'Carbon monoxide detector', 'Carpeting', 'Cleaning products', 'Closet', 'Clothes dryer', 'Clothes rack', 'Coffee/tea maker', 'Complimentary tea', 'DVD/CD player', 'Daily housekeeping', 'Daily newspaper', 'Dart board']\n"
     ]
    }
   ],
   "source": [
    "data[\"room_amenities\"].notna\n",
    "\n",
    "# sorted(metadata_df[\"material\"].unique().tolist())\n",
    "room_amenities = data[\"room_amenities\"].value_counts().index.tolist()\n",
    "room_amenities = [re.split(r\"[:;]\", s) for s in room_amenities]\n",
    "room_amenities = list(set(flatten(room_amenities)))\n",
    "room_amenities = sorted(list(set([s.strip() for s in room_amenities])))\n",
    "print(room_amenities[:21])"
   ]
  },
  {
   "cell_type": "code",
   "execution_count": 22,
   "id": "2d5b2bb2-6b1a-45f7-86e0-e965fefc5805",
   "metadata": {
    "tags": []
   },
   "outputs": [
    {
     "name": "stdout",
     "output_type": "stream",
     "text": [
      "['1', '1 bunk bed', '1 double bed', '1 futon', '1 king bed', '1 queen bed', '1 semi double bed', '1 single bed', '1 sofa bed', '1 super king bed', '10 bathrooms', '10 bunk beds', '10 queen beds', '12 double beds', '17 king beds', '2 bathrooms', '2 bedrooms', '2 bunk beds', '2 double beds', '2 futons', '2 king beds']\n"
     ]
    }
   ],
   "source": [
    "data[\"roomdescription\"].notna\n",
    "\n",
    "# sorted(data[\"roomdescription\"].unique().tolist())\n",
    "roomdescription = data[\"roomdescription\"].value_counts().index.tolist()\n",
    "roomdescription = [re.split(r\"[,&]\", s) for s in roomdescription]\n",
    "roomdescription = list(set(flatten(roomdescription)))\n",
    "roomdescription = [s.split(\"or\") for s in roomdescription]\n",
    "roomdescription = list(set(flatten(roomdescription)))\n",
    "roomdescription = [s.split(\"and\") for s in roomdescription]\n",
    "roomdescription = list(set(flatten(roomdescription)))\n",
    "roomdescription = sorted(list(set([s.strip() for s in roomdescription])))\n",
    "# roomdescription\n",
    "print(roomdescription[:21])"
   ]
  },
  {
   "cell_type": "code",
   "execution_count": null,
   "id": "cc343c41-b3ed-427f-8b2d-ffeaac666de2",
   "metadata": {},
   "outputs": [],
   "source": []
  }
 ],
 "metadata": {
  "kernelspec": {
   "display_name": "pytorch",
   "language": "python",
   "name": "python3"
  },
  "language_info": {
   "codemirror_mode": {
    "name": "ipython",
    "version": 3
   },
   "file_extension": ".py",
   "mimetype": "text/x-python",
   "name": "python",
   "nbconvert_exporter": "python",
   "pygments_lexer": "ipython3",
   "version": "3.10.13"
  }
 },
 "nbformat": 4,
 "nbformat_minor": 5
}
