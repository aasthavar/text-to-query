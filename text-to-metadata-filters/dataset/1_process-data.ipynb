{
 "cells": [
  {
   "cell_type": "code",
   "execution_count": 1,
   "id": "33fd1a04-4d41-44fc-a9ed-658792590c06",
   "metadata": {},
   "outputs": [],
   "source": [
    "# download_dir=\"hotel-recommendations\"\n",
    "\n",
    "# !kaggle datasets download -d keshavramaiah/hotel-recommendation\n",
    "\n",
    "# !unzip hotel-recommendation.zip -d $download_dir\n",
    "\n",
    "# !rm hotel-recommendation.zip\n"
   ]
  },
  {
   "cell_type": "code",
   "execution_count": 2,
   "id": "ce2e71c5-97d0-4f31-be0b-f674ff9b1755",
   "metadata": {
    "tags": []
   },
   "outputs": [],
   "source": [
    "import pandas as pd"
   ]
  },
  {
   "cell_type": "code",
   "execution_count": 3,
   "id": "cfea1c74-c11c-482b-b4ee-215ff06df3a3",
   "metadata": {
    "tags": []
   },
   "outputs": [],
   "source": [
    "data_dir_path = \"hotel-recommendations\"\n",
    "\n",
    "details = (\n",
    "    pd.read_csv(f\"{data_dir_path}/Hotel_details.csv\")\n",
    "    .drop_duplicates(subset=\"hotelid\")\n",
    "    .set_index(\"hotelid\")\n",
    ")\n",
    "attributes = pd.read_csv(\n",
    "    f\"{data_dir_path}/Hotel_Room_attributes.csv\", index_col=\"id\"\n",
    ")\n",
    "price = pd.read_csv(f\"{data_dir_path}/hotels_RoomPrice.csv\", index_col=\"id\")"
   ]
  },
  {
   "cell_type": "code",
   "execution_count": 4,
   "id": "e7ae615f-8ee0-4bd8-a9ca-294d1b2fab8a",
   "metadata": {
    "tags": []
   },
   "outputs": [
    {
     "name": "stdout",
     "output_type": "stream",
     "text": [
      "shape: (11922, 10)\n"
     ]
    }
   ],
   "source": [
    "data = price.drop_duplicates(subset=\"refid\", keep=\"last\")[\n",
    "    [\n",
    "        \"hotelcode\",\n",
    "        \"roomtype\",\n",
    "        \"onsiterate\",\n",
    "        \"roomamenities\",\n",
    "        \"maxoccupancy\",\n",
    "        \"mealinclusiontype\",\n",
    "    ]\n",
    "]\n",
    "\n",
    "data[\"ratedescription\"] = attributes.loc[data.index][\"ratedescription\"]\n",
    "data = data.join(\n",
    "    details[[\"hotelname\", \"city\", \"country\", \"starrating\"]], on=\"hotelcode\"\n",
    ")\n",
    "data = data.rename({\"ratedescription\": \"roomdescription\"}, axis=1)\n",
    "data[\"mealsincluded\"] = ~data[\"mealinclusiontype\"].isnull()\n",
    "data.pop(\"hotelcode\")\n",
    "data.pop(\"mealinclusiontype\")\n",
    "data = data.reset_index(drop=True)\n",
    "\n",
    "print(f\"shape: {data.shape}\")"
   ]
  },
  {
   "cell_type": "code",
   "execution_count": 5,
   "id": "6ddb940a-969b-4407-8ea4-c6787087dbea",
   "metadata": {
    "tags": []
   },
   "outputs": [
    {
     "data": {
      "text/plain": [
       "['roomtype',\n",
       " 'onsiterate',\n",
       " 'roomamenities',\n",
       " 'maxoccupancy',\n",
       " 'roomdescription',\n",
       " 'hotelname',\n",
       " 'city',\n",
       " 'country',\n",
       " 'starrating',\n",
       " 'mealsincluded']"
      ]
     },
     "execution_count": 5,
     "metadata": {},
     "output_type": "execute_result"
    }
   ],
   "source": [
    "data.columns.tolist()"
   ]
  },
  {
   "cell_type": "code",
   "execution_count": 6,
   "id": "64266175-00e6-47df-8006-0b1278e20938",
   "metadata": {
    "tags": []
   },
   "outputs": [],
   "source": [
    "data = data.rename(columns={\n",
    "    \"roomtype\": \"room_type\",\n",
    "    \"onsiterate\": \"onsite_rate\",\n",
    "    \"roomamenities\": \"room_amenities\",\n",
    "    \"maxoccupancy\": \"max_occupancy\",\n",
    "    \"hotelname\": \"hotel_name\",\n",
    "    \"starrating\": \"star_rating\",\n",
    "    \"mealsincluded\": \"meals_included\"\n",
    "})"
   ]
  },
  {
   "cell_type": "code",
   "execution_count": 7,
   "id": "68a464d7-fb8f-4473-af93-39ee46dd1f09",
   "metadata": {
    "tags": []
   },
   "outputs": [
    {
     "data": {
      "text/plain": [
       "['room_type',\n",
       " 'onsite_rate',\n",
       " 'room_amenities',\n",
       " 'max_occupancy',\n",
       " 'roomdescription',\n",
       " 'hotel_name',\n",
       " 'city',\n",
       " 'country',\n",
       " 'star_rating',\n",
       " 'meals_included']"
      ]
     },
     "execution_count": 7,
     "metadata": {},
     "output_type": "execute_result"
    }
   ],
   "source": [
    "data.columns.tolist()"
   ]
  },
  {
   "cell_type": "code",
   "execution_count": 8,
   "id": "e4c32c2b-458b-4799-9c49-1a75dbe628ef",
   "metadata": {
    "collapsed": true,
    "jupyter": {
     "outputs_hidden": true
    },
    "tags": []
   },
   "outputs": [
    {
     "name": "stdout",
     "output_type": "stream",
     "text": [
      "col: room_type, unique_values_count: 2635\n",
      "Examples: ['Double Room', 'Family Room', 'Vacation Home', 'Triple Room', 'Suite']\n",
      "-------------------- \n",
      "\n",
      "col: onsite_rate, unique_values_count: 4084\n",
      "Examples: [0.0, 95.03, 89.75, 126.71, 90.42]\n",
      "-------------------- \n",
      "\n",
      "col: room_amenities, unique_values_count: 6612\n",
      "Examples: ['Air conditioning: ;Free Wi-Fi in all rooms!: ;In-room safe box: ;Shower: ;TV: ;', 'Air conditioning: ;Free Wi-Fi in all rooms!: ;In-room safe box: ;Shower: ;Telephone: ;TV: ;', 'Air conditioning: ;Free Wi-Fi in all rooms!: ;In-room safe box: ;Shower: ;TV [flat screen]: ;', 'Air conditioning: ;Free Wi-Fi in all rooms!: ;Heating: ;In-room safe box: ;Laptop workspace: ;Shower: ;Towels: ;TV [flat screen]: ;', 'Air conditioning: ;Heating: ;In-room safe box: ;Internet access – wireless: ;Laptop workspace: ;Shower: ;Towels: ;TV [flat screen]: ;']\n",
      "-------------------- \n",
      "\n",
      "col: max_occupancy, unique_values_count: 19\n",
      "Examples: [2, 1, 4, 3, 6]\n",
      "-------------------- \n",
      "\n",
      "col: roomdescription, unique_values_count: 4701\n",
      "Examples: ['Free Wi-Fi, Extra low price! (non-refundable)', 'Room size: 21 m²/226 ft², Non-smoking, 2 single beds and 1 king bed', 'Shower, 1 double bed', 'Free Wi-Fi, Cancellation policy', 'Shower, Kitchenette, 2 bedrooms, 1 double bed or 2 single beds']\n",
      "-------------------- \n",
      "\n",
      "col: hotel_name, unique_values_count: 8917\n",
      "Examples: ['Hotel des Voyageurs', 'Hotel Europa', 'The Royal Hotel', 'Castle Hotel', 'Park Hotel']\n",
      "-------------------- \n",
      "\n",
      "col: city, unique_values_count: 4571\n",
      "Examples: ['London', 'Paris', 'Rome', 'Manchester', 'Berlin']\n",
      "-------------------- \n",
      "\n",
      "col: country, unique_values_count: 29\n",
      "Examples: ['United Kingdom', 'France', 'Italy', 'Germany', 'Spain']\n",
      "-------------------- \n",
      "\n",
      "col: star_rating, unique_values_count: 3\n",
      "Examples: [3, 4, 2]\n",
      "-------------------- \n",
      "\n",
      "col: meals_included, unique_values_count: 2\n",
      "Examples: [True, False]\n",
      "-------------------- \n",
      "\n"
     ]
    }
   ],
   "source": [
    "for col in data.columns:\n",
    "    values = data[col].value_counts().index.tolist()\n",
    "    print(f\"col: {col}, unique_values_count: {len(values)}\")\n",
    "    print(f\"Examples: {values[:5]}\")\n",
    "    print(\"-\"*20, \"\\n\")\n"
   ]
  },
  {
   "cell_type": "code",
   "execution_count": 9,
   "id": "cd9feed6-5967-46dd-b80d-eebd955692d1",
   "metadata": {
    "tags": []
   },
   "outputs": [
    {
     "data": {
      "text/plain": [
       "False    10907\n",
       "True      1015\n",
       "Name: count, dtype: int64"
      ]
     },
     "execution_count": 9,
     "metadata": {},
     "output_type": "execute_result"
    }
   ],
   "source": [
    "data.duplicated().value_counts()"
   ]
  },
  {
   "cell_type": "code",
   "execution_count": 10,
   "id": "f01b2e42-e7cb-47ce-b648-d283c332bfdf",
   "metadata": {
    "tags": []
   },
   "outputs": [],
   "source": [
    "data.drop_duplicates(inplace=True)"
   ]
  },
  {
   "cell_type": "code",
   "execution_count": 11,
   "id": "516ec0fa-431f-4800-b8cd-71e53162da17",
   "metadata": {
    "tags": []
   },
   "outputs": [
    {
     "data": {
      "text/plain": [
       "(10907, 10)"
      ]
     },
     "execution_count": 11,
     "metadata": {},
     "output_type": "execute_result"
    }
   ],
   "source": [
    "data.shape"
   ]
  },
  {
   "cell_type": "code",
   "execution_count": 12,
   "id": "9e09ef4b-afb7-4db6-84bb-c7356cf3bd88",
   "metadata": {
    "tags": []
   },
   "outputs": [
    {
     "data": {
      "text/html": [
       "<div>\n",
       "<style scoped>\n",
       "    .dataframe tbody tr th:only-of-type {\n",
       "        vertical-align: middle;\n",
       "    }\n",
       "\n",
       "    .dataframe tbody tr th {\n",
       "        vertical-align: top;\n",
       "    }\n",
       "\n",
       "    .dataframe thead th {\n",
       "        text-align: right;\n",
       "    }\n",
       "</style>\n",
       "<table border=\"1\" class=\"dataframe\">\n",
       "  <thead>\n",
       "    <tr style=\"text-align: right;\">\n",
       "      <th></th>\n",
       "      <th>room_type</th>\n",
       "      <th>onsite_rate</th>\n",
       "      <th>room_amenities</th>\n",
       "      <th>max_occupancy</th>\n",
       "      <th>roomdescription</th>\n",
       "      <th>hotel_name</th>\n",
       "      <th>city</th>\n",
       "      <th>country</th>\n",
       "      <th>star_rating</th>\n",
       "      <th>meals_included</th>\n",
       "    </tr>\n",
       "  </thead>\n",
       "  <tbody>\n",
       "    <tr>\n",
       "      <th>0</th>\n",
       "      <td>Vacation Home</td>\n",
       "      <td>636.09</td>\n",
       "      <td>Air conditioning: ;Closet: ;Fireplace: ;Free W...</td>\n",
       "      <td>4</td>\n",
       "      <td>Shower, Kitchenette, 2 bedrooms, 1 double bed ...</td>\n",
       "      <td>Pantlleni</td>\n",
       "      <td>Beddgelert</td>\n",
       "      <td>United Kingdom</td>\n",
       "      <td>3</td>\n",
       "      <td>False</td>\n",
       "    </tr>\n",
       "    <tr>\n",
       "      <th>1</th>\n",
       "      <td>Vacation Home</td>\n",
       "      <td>591.74</td>\n",
       "      <td>Air conditioning: ;Closet: ;Dishwasher: ;Firep...</td>\n",
       "      <td>4</td>\n",
       "      <td>Shower, Kitchenette, 2 bedrooms, 1 double bed ...</td>\n",
       "      <td>Willow Cottage</td>\n",
       "      <td>Beverley</td>\n",
       "      <td>United Kingdom</td>\n",
       "      <td>3</td>\n",
       "      <td>False</td>\n",
       "    </tr>\n",
       "    <tr>\n",
       "      <th>2</th>\n",
       "      <td>Guest room, Queen or Twin/Single Bed(s)</td>\n",
       "      <td>0.00</td>\n",
       "      <td>NaN</td>\n",
       "      <td>2</td>\n",
       "      <td>NaN</td>\n",
       "      <td>AC Hotel Manchester Salford Quays</td>\n",
       "      <td>Manchester</td>\n",
       "      <td>United Kingdom</td>\n",
       "      <td>4</td>\n",
       "      <td>False</td>\n",
       "    </tr>\n",
       "    <tr>\n",
       "      <th>3</th>\n",
       "      <td>Bargemaster King Accessible Room</td>\n",
       "      <td>379.08</td>\n",
       "      <td>Air conditioning: ;Free Wi-Fi in all rooms!: ;...</td>\n",
       "      <td>2</td>\n",
       "      <td>Shower</td>\n",
       "      <td>Lincoln Plaza London, Curio Collection by Hilton</td>\n",
       "      <td>London</td>\n",
       "      <td>United Kingdom</td>\n",
       "      <td>4</td>\n",
       "      <td>True</td>\n",
       "    </tr>\n",
       "    <tr>\n",
       "      <th>4</th>\n",
       "      <td>Twin Room</td>\n",
       "      <td>156.17</td>\n",
       "      <td>Additional toilet: ;Air conditioning: ;Blackou...</td>\n",
       "      <td>2</td>\n",
       "      <td>Room size: 15 m²/161 ft², Non-smoking, Shower,...</td>\n",
       "      <td>Ibis London Canning Town</td>\n",
       "      <td>London</td>\n",
       "      <td>United Kingdom</td>\n",
       "      <td>3</td>\n",
       "      <td>True</td>\n",
       "    </tr>\n",
       "  </tbody>\n",
       "</table>\n",
       "</div>"
      ],
      "text/plain": [
       "                                 room_type  onsite_rate  \\\n",
       "0                            Vacation Home       636.09   \n",
       "1                            Vacation Home       591.74   \n",
       "2  Guest room, Queen or Twin/Single Bed(s)         0.00   \n",
       "3         Bargemaster King Accessible Room       379.08   \n",
       "4                                Twin Room       156.17   \n",
       "\n",
       "                                      room_amenities  max_occupancy  \\\n",
       "0  Air conditioning: ;Closet: ;Fireplace: ;Free W...              4   \n",
       "1  Air conditioning: ;Closet: ;Dishwasher: ;Firep...              4   \n",
       "2                                                NaN              2   \n",
       "3  Air conditioning: ;Free Wi-Fi in all rooms!: ;...              2   \n",
       "4  Additional toilet: ;Air conditioning: ;Blackou...              2   \n",
       "\n",
       "                                     roomdescription  \\\n",
       "0  Shower, Kitchenette, 2 bedrooms, 1 double bed ...   \n",
       "1  Shower, Kitchenette, 2 bedrooms, 1 double bed ...   \n",
       "2                                                NaN   \n",
       "3                                             Shower   \n",
       "4  Room size: 15 m²/161 ft², Non-smoking, Shower,...   \n",
       "\n",
       "                                         hotel_name        city  \\\n",
       "0                                         Pantlleni  Beddgelert   \n",
       "1                                    Willow Cottage    Beverley   \n",
       "2                 AC Hotel Manchester Salford Quays  Manchester   \n",
       "3  Lincoln Plaza London, Curio Collection by Hilton      London   \n",
       "4                          Ibis London Canning Town      London   \n",
       "\n",
       "          country  star_rating  meals_included  \n",
       "0  United Kingdom            3           False  \n",
       "1  United Kingdom            3           False  \n",
       "2  United Kingdom            4           False  \n",
       "3  United Kingdom            4            True  \n",
       "4  United Kingdom            3            True  "
      ]
     },
     "execution_count": 12,
     "metadata": {},
     "output_type": "execute_result"
    }
   ],
   "source": [
    "data.head()"
   ]
  },
  {
   "cell_type": "code",
   "execution_count": 13,
   "id": "9ae1be87-f0e2-44d7-9592-4e51b3753b96",
   "metadata": {
    "tags": []
   },
   "outputs": [],
   "source": [
    "data.to_csv(\"hotel-recommendations-cleaned.csv\", index=False)"
   ]
  },
  {
   "cell_type": "markdown",
   "id": "20477d50",
   "metadata": {},
   "source": [
    "### To be used later in prompting"
   ]
  },
  {
   "cell_type": "code",
   "execution_count": null,
   "id": "30873bdd",
   "metadata": {},
   "outputs": [],
   "source": [
    "import boto3, json\n",
    "from langchain.llms.bedrock import Bedrock\n",
    "from langchain_core.output_parsers import JsonOutputParser"
   ]
  },
  {
   "cell_type": "code",
   "execution_count": 27,
   "id": "b7ae7fbb",
   "metadata": {},
   "outputs": [
    {
     "name": "stdout",
     "output_type": "stream",
     "text": [
      "[\n",
      "  {\n",
      "    \"name\": \"onsite_rate\",\n",
      "    \"description\": \"The average daily rate for a room at this hotel\",\n",
      "    \"type\": \"float\"\n",
      "  },\n",
      "  {\n",
      "    \"name\": \"max_occupancy\",\n",
      "    \"description\": \"The maximum number of guests allowed per room at this hotel\",\n",
      "    \"type\": \"integer\"\n",
      "  },\n",
      "  {\n",
      "    \"name\": \"city\",\n",
      "    \"description\": \"The city where this hotel is located\",\n",
      "    \"type\": \"string\"\n",
      "  },\n",
      "  {\n",
      "    \"name\": \"country\",\n",
      "    \"description\": \"The country where this hotel is located\",\n",
      "    \"type\": \"string\"\n",
      "  },\n",
      "  {\n",
      "    \"name\": \"star_rating\",\n",
      "    \"description\": \"The star rating for this hotel, on a scale of 1 to 5 stars\",\n",
      "    \"type\": \"integer\"\n",
      "  },\n",
      "  {\n",
      "    \"name\": \"meals_included\",\n",
      "    \"description\": \"Whether meals are included in the room rate at this hotel\",\n",
      "    \"type\": \"boolean\"\n",
      "  }\n",
      "]\n"
     ]
    }
   ],
   "source": [
    "metadata_df = data.drop(\n",
    "    columns=[\"room_type\", \"room_amenities\", \"roomdescription\", \"hotel_name\"], \n",
    "    axis=1\n",
    ")\n",
    "\n",
    "llm = Bedrock(\n",
    "    model_id=\"anthropic.claude-v2:1\",\n",
    "    client=boto3.client(\"bedrock-runtime\"),\n",
    "    model_kwargs={\"max_tokens_to_sample\": 512, \"temperature\": 0.0},\n",
    ")\n",
    "\n",
    "prompt = \"\"\"\\n\\nHuman: Below is a table with information about hotel rooms.\n",
    "Return a JSON list with an entry for each column. Enclose the result in ```json ```.\n",
    "No additional explanation. Each entry should have \n",
    "'{\"name\": \"column name\", \"description\": \"good detailed, factually correct column description\", \"type\": \"column data type\"}\"\"\"\n",
    "prompt += \"\\n\\n\" + str(metadata_df.head()) + \"\\n\\nAssistant: \"\n",
    "# print(prompt)\n",
    "\n",
    "response = llm.predict(prompt)\n",
    "\n",
    "parser = JsonOutputParser()\n",
    "attribute_info = parser.parse(response)\n",
    "print(json.dumps(attribute_info, indent=2, default=str))"
   ]
  },
  {
   "cell_type": "code",
   "execution_count": 26,
   "id": "f4033c6d",
   "metadata": {},
   "outputs": [
    {
     "ename": "NameError",
     "evalue": "name 'json' is not defined",
     "output_type": "error",
     "traceback": [
      "\u001b[0;31m---------------------------------------------------------------------------\u001b[0m",
      "\u001b[0;31mNameError\u001b[0m                                 Traceback (most recent call last)",
      "Cell \u001b[0;32mIn[26], line 4\u001b[0m\n\u001b[1;32m      1\u001b[0m parser \u001b[38;5;241m=\u001b[39m JsonOutputParser()\n\u001b[1;32m      2\u001b[0m attribute_info \u001b[38;5;241m=\u001b[39m parser\u001b[38;5;241m.\u001b[39mparse(response)\n\u001b[0;32m----> 4\u001b[0m \u001b[38;5;28mprint\u001b[39m(\u001b[43mjson\u001b[49m\u001b[38;5;241m.\u001b[39mdumps(attribute_info, indent\u001b[38;5;241m=\u001b[39m\u001b[38;5;241m2\u001b[39m, default\u001b[38;5;241m=\u001b[39m\u001b[38;5;28mstr\u001b[39m))\n",
      "\u001b[0;31mNameError\u001b[0m: name 'json' is not defined"
     ]
    }
   ],
   "source": []
  },
  {
   "cell_type": "code",
   "execution_count": null,
   "id": "b96b6b77",
   "metadata": {},
   "outputs": [],
   "source": []
  }
 ],
 "metadata": {
  "kernelspec": {
   "display_name": "pytorch",
   "language": "python",
   "name": "python3"
  },
  "language_info": {
   "codemirror_mode": {
    "name": "ipython",
    "version": 3
   },
   "file_extension": ".py",
   "mimetype": "text/x-python",
   "name": "python",
   "nbconvert_exporter": "python",
   "pygments_lexer": "ipython3",
   "version": "3.10.13"
  }
 },
 "nbformat": 4,
 "nbformat_minor": 5
}
