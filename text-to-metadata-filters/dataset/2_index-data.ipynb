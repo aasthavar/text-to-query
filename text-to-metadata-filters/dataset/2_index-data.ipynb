{
 "cells": [
  {
   "cell_type": "code",
   "execution_count": 37,
   "id": "af904160-f2ba-4893-ae9d-3a386c02ea5e",
   "metadata": {
    "tags": []
   },
   "outputs": [
    {
     "name": "stdout",
     "output_type": "stream",
     "text": [
      "\u001b[33mWARNING: Ignoring invalid distribution -ackaging (/opt/conda/envs/pytorch/lib/python3.10/site-packages)\u001b[0m\u001b[33m\n",
      "\u001b[0m\u001b[33mWARNING: Ignoring invalid distribution -ackaging (/opt/conda/envs/pytorch/lib/python3.10/site-packages)\u001b[0m\u001b[33m\n",
      "\u001b[0m"
     ]
    }
   ],
   "source": [
    "# !pip install langchain_community pgvector --quiet"
   ]
  },
  {
   "cell_type": "code",
   "execution_count": 27,
   "id": "e7b04950-672f-4fdc-ac16-729a44a9877b",
   "metadata": {},
   "outputs": [],
   "source": [
    "import json, boto3\n",
    "import pandas as pd\n",
    "from langchain.vectorstores import PGVector\n",
    "from langchain_core.documents import Document\n",
    "from langchain_community.embeddings import BedrockEmbeddings"
   ]
  },
  {
   "cell_type": "code",
   "execution_count": 28,
   "id": "ee81616d-0766-4576-bec5-b4a9306cf641",
   "metadata": {
    "tags": []
   },
   "outputs": [],
   "source": [
    "df = pd.read_csv(\"hotel-recommendations-cleaned.csv\")\n",
    "\n",
    "metadata_df = df.drop(\n",
    "    columns=[\"room_type\", \"room_amenities\", \"roomdescription\", \"hotel_name\"], \n",
    "    axis=1\n",
    ")\n",
    "\n",
    "# print(metadata_df.loc[0].to_dict())\n",
    "# print(\"-\"*10)\n",
    "# print(df.loc[0].to_dict())"
   ]
  },
  {
   "cell_type": "code",
   "execution_count": 26,
   "id": "84e7f323-45fc-40ba-8f06-c6495dfc0464",
   "metadata": {
    "tags": []
   },
   "outputs": [
    {
     "name": "stdout",
     "output_type": "stream",
     "text": [
      "{'onsite_rate': 636.09, 'max_occupancy': 4, 'city': 'Beddgelert', 'country': 'United Kingdom', 'star_rating': 3, 'meals_included': False}\n"
     ]
    }
   ],
   "source": [
    "docs=[]\n",
    "for idx, row in df.fillna(\"\").iterrows():\n",
    "    doc = Document(\n",
    "        page_content=json.dumps(row.to_dict(), indent=2),\n",
    "        metadata=metadata_df.loc[idx].to_dict()\n",
    "    )\n",
    "    docs.append(doc)\n",
    "    \n",
    "print(docs[0].metadata)"
   ]
  },
  {
   "cell_type": "code",
   "execution_count": 35,
   "id": "a9f12a84",
   "metadata": {},
   "outputs": [],
   "source": [
    "bedrock_embeddings = BedrockEmbeddings(\n",
    "    model_id=\"amazon.titan-embed-text-v1\",\n",
    "    client=boto3.client(\"bedrock-runtime\")\n",
    ")\n",
    "\n",
    "collection_name = \"hotel-self-query-search\"\n",
    "\n",
    "with open(\"/home/ubuntu/config.json\") as file:\n",
    "    config = json.load(file)\n",
    "pgvector_connection_string = \"postgresql+psycopg2://{user}:{password}@{host}:{port}/{database}\".format(**config[\"rds_connect\"])\n",
    "\n",
    "# from langchain.sql_database import SQLDatabase\n",
    "# database_uri = \"postgresql://{user}:{password}@{host}:{port}/{database}\".format(**config[\"rds_connect\"])\n",
    "# rds_db = SQLDatabase.from_uri(database_uri=database_uri)\n",
    "# print(rds_db.dialect)\n",
    "# print(rds_db.get_usable_table_names())\n",
    "# print(rds_db.get_table_info())"
   ]
  },
  {
   "cell_type": "code",
   "execution_count": 43,
   "id": "d748f7db",
   "metadata": {},
   "outputs": [
    {
     "name": "stdout",
     "output_type": "stream",
     "text": [
      "CPU times: user 50.2 s, sys: 2.34 s, total: 52.6 s\n",
      "Wall time: 18min 32s\n"
     ]
    }
   ],
   "source": [
    "%%time\n",
    "\n",
    "pgvector_vectorstore = PGVector.from_documents(\n",
    "    documents=docs,\n",
    "    embedding=bedrock_embeddings,\n",
    "    collection_name=collection_name,\n",
    "    connection_string=pgvector_connection_string,\n",
    "    pre_delete_collection=True,\n",
    ")"
   ]
  },
  {
   "cell_type": "code",
   "execution_count": 44,
   "id": "819f6e1e",
   "metadata": {},
   "outputs": [
    {
     "name": "stdout",
     "output_type": "stream",
     "text": [
      "CPU times: user 21.3 ms, sys: 0 ns, total: 21.3 ms\n",
      "Wall time: 65.7 ms\n"
     ]
    },
    {
     "data": {
      "text/plain": [
       "<langchain_community.vectorstores.pgvector.PGVector at 0x7f41948c4ca0>"
      ]
     },
     "execution_count": 44,
     "metadata": {},
     "output_type": "execute_result"
    }
   ],
   "source": [
    "%%time\n",
    "store = PGVector(\n",
    "    collection_name=collection_name,\n",
    "    connection_string=pgvector_connection_string,\n",
    "    embedding_function=bedrock_embeddings,\n",
    ")\n",
    "\n",
    "store"
   ]
  },
  {
   "cell_type": "code",
   "execution_count": 45,
   "id": "94b34b76",
   "metadata": {},
   "outputs": [
    {
     "data": {
      "text/plain": [
       "[(Document(page_content='{\\n  \"room_type\": \"Family\",\\n  \"onsite_rate\": 89.75,\\n  \"room_amenities\": \"Air conditioning: ;Coffee/tea maker: ;Free Wi-Fi in all rooms!: ;Hair dryer: ;In-room safe box: ;Laptop safe box: ;Linens: ;Satellite/cable channels: ;Telephone: ;Towels: ;\",\\n  \"max_occupancy\": 2,\\n  \"roomdescription\": \"Room size: 21 m\\\\u00b2/226 ft\\\\u00b2, Garden view, Non-smoking, Shower and bathtub, 1 double bed\",\\n  \"hotel_name\": \"Britannia Russ Hill\",\\n  \"city\": \"London\",\\n  \"country\": \"United Kingdom\",\\n  \"star_rating\": 3,\\n  \"meals_included\": true\\n}', metadata={'onsite_rate': 89.75, 'max_occupancy': 2, 'city': 'London', 'country': 'United Kingdom', 'star_rating': 3, 'meals_included': True}),\n",
       "  0.311207046162955),\n",
       " (Document(page_content='{\\n  \"room_type\": \"1 Queen Bed Non-Smoking\",\\n  \"onsite_rate\": 130.93,\\n  \"room_amenities\": \"Air conditioning: ;Coffee/tea maker: ;Free Wi-Fi in all rooms!: ;Hair dryer: ;In-room safe box: ;Refrigerator: ;Satellite/cable channels: ;Shower: ;\",\\n  \"max_occupancy\": 2,\\n  \"roomdescription\": \"Non-smoking, 1 queen bed\",\\n  \"hotel_name\": \"Holiday Inn London - Heathrow T5\",\\n  \"city\": \"London\",\\n  \"country\": \"United Kingdom\",\\n  \"star_rating\": 4,\\n  \"meals_included\": true\\n}', metadata={'onsite_rate': 130.93, 'max_occupancy': 2, 'city': 'London', 'country': 'United Kingdom', 'star_rating': 4, 'meals_included': True}),\n",
       "  0.3218463195364911),\n",
       " (Document(page_content='{\\n  \"room_type\": \"Family Room\",\\n  \"onsite_rate\": 124.06,\\n  \"room_amenities\": \"Air conditioning: ;Heating: ;In-room safe box: ;Internet access \\\\u2013 wireless: ;Laptop workspace: ;Shower: ;Telephone: ;Towels: ;TV [flat screen]: ;\",\\n  \"max_occupancy\": 2,\\n  \"roomdescription\": \"Room size: 21 m\\\\u00b2/226 ft\\\\u00b2, Non-smoking, 2 single beds and 1 king bed\",\\n  \"hotel_name\": \"Travelodge London Wembley High Road\",\\n  \"city\": \"London\",\\n  \"country\": \"United Kingdom\",\\n  \"star_rating\": 3,\\n  \"meals_included\": true\\n}', metadata={'onsite_rate': 124.06, 'max_occupancy': 2, 'city': 'London', 'country': 'United Kingdom', 'star_rating': 3, 'meals_included': True}),\n",
       "  0.32414163610858426),\n",
       " (Document(page_content='{\\n  \"room_type\": \"En Suite Family Room\",\\n  \"onsite_rate\": 125.44,\\n  \"room_amenities\": \"Air conditioning: ;Fan: ;Free Wi-Fi in all rooms!: ;Heating: ;In-room safe box: ;Interconnecting room(s) available: ;Satellite/cable channels: ;Toiletries: ;Wake-up service: ;\",\\n  \"max_occupancy\": 4,\\n  \"roomdescription\": \"Shower, 2 single beds and 1 double bed\",\\n  \"hotel_name\": \"Best Inn Hotel\",\\n  \"city\": \"London\",\\n  \"country\": \"United Kingdom\",\\n  \"star_rating\": 2,\\n  \"meals_included\": true\\n}', metadata={'onsite_rate': 125.44, 'max_occupancy': 4, 'city': 'London', 'country': 'United Kingdom', 'star_rating': 2, 'meals_included': True}),\n",
       "  0.3267389185393732)]"
      ]
     },
     "execution_count": 45,
     "metadata": {},
     "output_type": "execute_result"
    }
   ],
   "source": [
    "pgvector_vectorstore.similarity_search_with_score(\n",
    "    \"Suggest some hotels near United Kingdom\"\n",
    ")"
   ]
  },
  {
   "cell_type": "code",
   "execution_count": null,
   "id": "dfaefead",
   "metadata": {},
   "outputs": [],
   "source": []
  }
 ],
 "metadata": {
  "kernelspec": {
   "display_name": "pytorch",
   "language": "python",
   "name": "python3"
  },
  "language_info": {
   "codemirror_mode": {
    "name": "ipython",
    "version": 3
   },
   "file_extension": ".py",
   "mimetype": "text/x-python",
   "name": "python",
   "nbconvert_exporter": "python",
   "pygments_lexer": "ipython3",
   "version": "3.10.13"
  }
 },
 "nbformat": 4,
 "nbformat_minor": 5
}
